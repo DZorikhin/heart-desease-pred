{
 "cells": [
  {
   "cell_type": "markdown",
   "id": "561d0ef3-cba6-4241-9713-871631b55255",
   "metadata": {},
   "source": [
    "# Heart Disease Prediction"
   ]
  },
  {
   "cell_type": "markdown",
   "id": "e40fb184-b230-4810-ba08-2139d7e7df94",
   "metadata": {},
   "source": [
    "The goal of this project is to predict whether the patient has 10-year risk of future coronary heart disease (CHD). The dataset provides the patients’ information. It includes over 4,000 records and 15 attributes.\n",
    "This project is based on [Kaggle dataset problem](https://www.kaggle.com/dileep070/heart-disease-prediction-using-logistic-regression).\n",
    "\n",
    "Variables:\n",
    "\n",
    "1. Sex: male or female(Nominal)\n",
    "2. Age: Age of the patient;\n",
    "3. Current Smoker: whether or not the patient is a current smoker (Nominal)\n",
    "4. Cigs Per Day: the number of cigarettes that the person smoked on average in one day.\n",
    "5. BP Meds: whether or not the patient was on blood pressure medication (Nominal)\n",
    "6. Prevalent Stroke: whether or not the patient had previously had a stroke (Nominal)\n",
    "7. Prevalent Hyp: whether or not the patient was hypertensive (Nominal)\n",
    "8. Diabetes: whether or not the patient had diabetes (Nominal)\n",
    "9. Tot Chol: total cholesterol level (Continuous)\n",
    "10. Sys BP: systolic blood pressure (Continuous)\n",
    "11. Dia BP: diastolic blood pressure (Continuous)\n",
    "12. BMI: Body Mass Index (Continuous)\n",
    "13. Heart Rate: heart rate (Continuous )\n",
    "14. Glucose: glucose level (Continuous)\n",
    "15. 10 year risk of coronary heart disease CHD (binary: “1”, means “Yes”, “0” means “No”) (Target Variable)"
   ]
  },
  {
   "cell_type": "code",
   "execution_count": 1,
   "id": "02b364e1-4275-42c7-bedc-7caa26e2725b",
   "metadata": {},
   "outputs": [],
   "source": [
    "import pandas as pd\n",
    "import numpy as np\n",
    "from sklearn.model_selection import train_test_split\n",
    "from sklearn.linear_model import LogisticRegression\n",
    "from sklearn.tree import DecisionTreeClassifier\n",
    "from sklearn.ensemble import RandomForestClassifier\n",
    "import xgboost as xgb\n",
    "import lightgbm as lgb\n",
    "\n",
    "from sklearn.metrics import mutual_info_score, accuracy_score\n",
    "from sklearn.metrics import confusion_matrix, classification_report\n",
    "from sklearn.metrics import roc_auc_score, roc_curve, auc, precision_recall_fscore_support\n",
    "\n",
    "from sklearn.preprocessing import MinMaxScaler\n",
    "\n",
    "import seaborn as sns\n",
    "import matplotlib.pyplot as plt\n",
    "from tqdm.auto import tqdm\n",
    "\n",
    "%matplotlib inline"
   ]
  },
  {
   "cell_type": "code",
   "execution_count": 2,
   "id": "8f2230f6-0a56-43ee-9efd-ca1f1af0d1da",
   "metadata": {},
   "outputs": [],
   "source": [
    "df = pd.read_csv('framingham.csv')"
   ]
  },
  {
   "cell_type": "code",
   "execution_count": 3,
   "id": "4e9755b0-0694-4da0-abcf-b1446e7dfd97",
   "metadata": {},
   "outputs": [
    {
     "name": "stdout",
     "output_type": "stream",
     "text": [
      "<class 'pandas.core.frame.DataFrame'>\n",
      "RangeIndex: 4238 entries, 0 to 4237\n",
      "Data columns (total 16 columns):\n",
      " #   Column           Non-Null Count  Dtype  \n",
      "---  ------           --------------  -----  \n",
      " 0   male             4238 non-null   int64  \n",
      " 1   age              4238 non-null   int64  \n",
      " 2   education        4133 non-null   float64\n",
      " 3   currentSmoker    4238 non-null   int64  \n",
      " 4   cigsPerDay       4209 non-null   float64\n",
      " 5   BPMeds           4185 non-null   float64\n",
      " 6   prevalentStroke  4238 non-null   int64  \n",
      " 7   prevalentHyp     4238 non-null   int64  \n",
      " 8   diabetes         4238 non-null   int64  \n",
      " 9   totChol          4188 non-null   float64\n",
      " 10  sysBP            4238 non-null   float64\n",
      " 11  diaBP            4238 non-null   float64\n",
      " 12  BMI              4219 non-null   float64\n",
      " 13  heartRate        4237 non-null   float64\n",
      " 14  glucose          3850 non-null   float64\n",
      " 15  TenYearCHD       4238 non-null   int64  \n",
      "dtypes: float64(9), int64(7)\n",
      "memory usage: 529.9 KB\n"
     ]
    }
   ],
   "source": [
    "df.info()"
   ]
  },
  {
   "cell_type": "code",
   "execution_count": 4,
   "id": "da5717cb-546e-49f5-aaa5-2ad3f13d42e0",
   "metadata": {},
   "outputs": [
    {
     "data": {
      "text/html": [
       "<div>\n",
       "<style scoped>\n",
       "    .dataframe tbody tr th:only-of-type {\n",
       "        vertical-align: middle;\n",
       "    }\n",
       "\n",
       "    .dataframe tbody tr th {\n",
       "        vertical-align: top;\n",
       "    }\n",
       "\n",
       "    .dataframe thead th {\n",
       "        text-align: right;\n",
       "    }\n",
       "</style>\n",
       "<table border=\"1\" class=\"dataframe\">\n",
       "  <thead>\n",
       "    <tr style=\"text-align: right;\">\n",
       "      <th></th>\n",
       "      <th>male</th>\n",
       "      <th>age</th>\n",
       "      <th>education</th>\n",
       "      <th>currentSmoker</th>\n",
       "      <th>cigsPerDay</th>\n",
       "      <th>BPMeds</th>\n",
       "      <th>prevalentStroke</th>\n",
       "      <th>prevalentHyp</th>\n",
       "      <th>diabetes</th>\n",
       "      <th>totChol</th>\n",
       "      <th>sysBP</th>\n",
       "      <th>diaBP</th>\n",
       "      <th>BMI</th>\n",
       "      <th>heartRate</th>\n",
       "      <th>glucose</th>\n",
       "      <th>TenYearCHD</th>\n",
       "    </tr>\n",
       "  </thead>\n",
       "  <tbody>\n",
       "    <tr>\n",
       "      <th>0</th>\n",
       "      <td>1</td>\n",
       "      <td>39</td>\n",
       "      <td>4.0</td>\n",
       "      <td>0</td>\n",
       "      <td>0.0</td>\n",
       "      <td>0.0</td>\n",
       "      <td>0</td>\n",
       "      <td>0</td>\n",
       "      <td>0</td>\n",
       "      <td>195.0</td>\n",
       "      <td>106.0</td>\n",
       "      <td>70.0</td>\n",
       "      <td>26.97</td>\n",
       "      <td>80.0</td>\n",
       "      <td>77.0</td>\n",
       "      <td>0</td>\n",
       "    </tr>\n",
       "    <tr>\n",
       "      <th>1</th>\n",
       "      <td>0</td>\n",
       "      <td>46</td>\n",
       "      <td>2.0</td>\n",
       "      <td>0</td>\n",
       "      <td>0.0</td>\n",
       "      <td>0.0</td>\n",
       "      <td>0</td>\n",
       "      <td>0</td>\n",
       "      <td>0</td>\n",
       "      <td>250.0</td>\n",
       "      <td>121.0</td>\n",
       "      <td>81.0</td>\n",
       "      <td>28.73</td>\n",
       "      <td>95.0</td>\n",
       "      <td>76.0</td>\n",
       "      <td>0</td>\n",
       "    </tr>\n",
       "    <tr>\n",
       "      <th>2</th>\n",
       "      <td>1</td>\n",
       "      <td>48</td>\n",
       "      <td>1.0</td>\n",
       "      <td>1</td>\n",
       "      <td>20.0</td>\n",
       "      <td>0.0</td>\n",
       "      <td>0</td>\n",
       "      <td>0</td>\n",
       "      <td>0</td>\n",
       "      <td>245.0</td>\n",
       "      <td>127.5</td>\n",
       "      <td>80.0</td>\n",
       "      <td>25.34</td>\n",
       "      <td>75.0</td>\n",
       "      <td>70.0</td>\n",
       "      <td>0</td>\n",
       "    </tr>\n",
       "    <tr>\n",
       "      <th>3</th>\n",
       "      <td>0</td>\n",
       "      <td>61</td>\n",
       "      <td>3.0</td>\n",
       "      <td>1</td>\n",
       "      <td>30.0</td>\n",
       "      <td>0.0</td>\n",
       "      <td>0</td>\n",
       "      <td>1</td>\n",
       "      <td>0</td>\n",
       "      <td>225.0</td>\n",
       "      <td>150.0</td>\n",
       "      <td>95.0</td>\n",
       "      <td>28.58</td>\n",
       "      <td>65.0</td>\n",
       "      <td>103.0</td>\n",
       "      <td>1</td>\n",
       "    </tr>\n",
       "    <tr>\n",
       "      <th>4</th>\n",
       "      <td>0</td>\n",
       "      <td>46</td>\n",
       "      <td>3.0</td>\n",
       "      <td>1</td>\n",
       "      <td>23.0</td>\n",
       "      <td>0.0</td>\n",
       "      <td>0</td>\n",
       "      <td>0</td>\n",
       "      <td>0</td>\n",
       "      <td>285.0</td>\n",
       "      <td>130.0</td>\n",
       "      <td>84.0</td>\n",
       "      <td>23.10</td>\n",
       "      <td>85.0</td>\n",
       "      <td>85.0</td>\n",
       "      <td>0</td>\n",
       "    </tr>\n",
       "  </tbody>\n",
       "</table>\n",
       "</div>"
      ],
      "text/plain": [
       "   male  age  education  currentSmoker  cigsPerDay  BPMeds  prevalentStroke  \\\n",
       "0     1   39        4.0              0         0.0     0.0                0   \n",
       "1     0   46        2.0              0         0.0     0.0                0   \n",
       "2     1   48        1.0              1        20.0     0.0                0   \n",
       "3     0   61        3.0              1        30.0     0.0                0   \n",
       "4     0   46        3.0              1        23.0     0.0                0   \n",
       "\n",
       "   prevalentHyp  diabetes  totChol  sysBP  diaBP    BMI  heartRate  glucose  \\\n",
       "0             0         0    195.0  106.0   70.0  26.97       80.0     77.0   \n",
       "1             0         0    250.0  121.0   81.0  28.73       95.0     76.0   \n",
       "2             0         0    245.0  127.5   80.0  25.34       75.0     70.0   \n",
       "3             1         0    225.0  150.0   95.0  28.58       65.0    103.0   \n",
       "4             0         0    285.0  130.0   84.0  23.10       85.0     85.0   \n",
       "\n",
       "   TenYearCHD  \n",
       "0           0  \n",
       "1           0  \n",
       "2           0  \n",
       "3           1  \n",
       "4           0  "
      ]
     },
     "execution_count": 4,
     "metadata": {},
     "output_type": "execute_result"
    }
   ],
   "source": [
    "df.head()"
   ]
  },
  {
   "cell_type": "markdown",
   "id": "6bce85ba-db1c-4a7a-8df1-ebc21a1043ed",
   "metadata": {},
   "source": [
    "Assumption: \"education\" feature is difficult to interpret so I omit it in this research."
   ]
  },
  {
   "cell_type": "code",
   "execution_count": 5,
   "id": "c32d1e10-2089-4ea4-b342-23124b714942",
   "metadata": {},
   "outputs": [],
   "source": [
    "df.drop(columns=['education'], inplace=True)"
   ]
  },
  {
   "cell_type": "code",
   "execution_count": 6,
   "id": "6cb548c5-a347-4b0e-933c-c6e90c280561",
   "metadata": {},
   "outputs": [],
   "source": [
    "numerical = [\n",
    "    'age', 'cigsPerDay', 'totChol', 'sysBP', \n",
    "    'diaBP', 'BMI', 'heartRate', 'glucose'\n",
    "]"
   ]
  },
  {
   "cell_type": "code",
   "execution_count": 7,
   "id": "cb508f59-2092-4a3e-9ad1-5375502bb603",
   "metadata": {},
   "outputs": [],
   "source": [
    "categorical = [\n",
    "    'male', 'currentSmoker', 'BPMeds', \n",
    "    'prevalentStroke', 'prevalentHyp', 'diabetes'\n",
    "]"
   ]
  },
  {
   "cell_type": "markdown",
   "id": "2a28207b-4f57-4d4a-b23c-66509be07c9f",
   "metadata": {},
   "source": [
    "### Pre EDA"
   ]
  },
  {
   "cell_type": "markdown",
   "id": "473c12fd-38bf-4c89-b587-b87c96275726",
   "metadata": {},
   "source": [
    "#### Check and fill NaN"
   ]
  },
  {
   "cell_type": "markdown",
   "id": "6cf3eff3-ffe4-4d45-9a68-f9a525a043a8",
   "metadata": {},
   "source": [
    "##### Numerical"
   ]
  },
  {
   "cell_type": "code",
   "execution_count": 8,
   "id": "02716ad0-0d93-40bd-a435-04166d38b7f2",
   "metadata": {},
   "outputs": [
    {
     "data": {
      "text/plain": [
       "male                 0\n",
       "age                  0\n",
       "currentSmoker        0\n",
       "cigsPerDay          29\n",
       "BPMeds              53\n",
       "prevalentStroke      0\n",
       "prevalentHyp         0\n",
       "diabetes             0\n",
       "totChol             50\n",
       "sysBP                0\n",
       "diaBP                0\n",
       "BMI                 19\n",
       "heartRate            1\n",
       "glucose            388\n",
       "TenYearCHD           0\n",
       "dtype: int64"
      ]
     },
     "execution_count": 8,
     "metadata": {},
     "output_type": "execute_result"
    }
   ],
   "source": [
    "df.isna().sum()"
   ]
  },
  {
   "cell_type": "markdown",
   "id": "a41fa4d9-2c1c-46ef-a2b9-76683aff8db5",
   "metadata": {},
   "source": [
    "From the above it is clear that numerical columns \"cigsPerDay\", \"totChol\", \"BMI\", \"heartRate\" and \"glucose\" has NaN values. It order to handle this let's explore their corresponding  distributions.\n",
    "I will use univariate visualization in order to understand these features."
   ]
  },
  {
   "cell_type": "code",
   "execution_count": 9,
   "id": "84d71f3b-ed65-4b28-8e37-bbe40c85f61f",
   "metadata": {},
   "outputs": [
    {
     "data": {
      "text/html": [
       "<div>\n",
       "<style scoped>\n",
       "    .dataframe tbody tr th:only-of-type {\n",
       "        vertical-align: middle;\n",
       "    }\n",
       "\n",
       "    .dataframe tbody tr th {\n",
       "        vertical-align: top;\n",
       "    }\n",
       "\n",
       "    .dataframe thead th {\n",
       "        text-align: right;\n",
       "    }\n",
       "</style>\n",
       "<table border=\"1\" class=\"dataframe\">\n",
       "  <thead>\n",
       "    <tr style=\"text-align: right;\">\n",
       "      <th></th>\n",
       "      <th>age</th>\n",
       "      <th>cigsPerDay</th>\n",
       "      <th>totChol</th>\n",
       "      <th>sysBP</th>\n",
       "      <th>diaBP</th>\n",
       "      <th>BMI</th>\n",
       "      <th>heartRate</th>\n",
       "      <th>glucose</th>\n",
       "    </tr>\n",
       "  </thead>\n",
       "  <tbody>\n",
       "    <tr>\n",
       "      <th>count</th>\n",
       "      <td>4238.000000</td>\n",
       "      <td>4209.000000</td>\n",
       "      <td>4188.000000</td>\n",
       "      <td>4238.000000</td>\n",
       "      <td>4238.000000</td>\n",
       "      <td>4219.000000</td>\n",
       "      <td>4237.000000</td>\n",
       "      <td>3850.000000</td>\n",
       "    </tr>\n",
       "    <tr>\n",
       "      <th>mean</th>\n",
       "      <td>49.584946</td>\n",
       "      <td>9.003089</td>\n",
       "      <td>236.721585</td>\n",
       "      <td>132.352407</td>\n",
       "      <td>82.893464</td>\n",
       "      <td>25.802008</td>\n",
       "      <td>75.878924</td>\n",
       "      <td>81.966753</td>\n",
       "    </tr>\n",
       "    <tr>\n",
       "      <th>std</th>\n",
       "      <td>8.572160</td>\n",
       "      <td>11.920094</td>\n",
       "      <td>44.590334</td>\n",
       "      <td>22.038097</td>\n",
       "      <td>11.910850</td>\n",
       "      <td>4.080111</td>\n",
       "      <td>12.026596</td>\n",
       "      <td>23.959998</td>\n",
       "    </tr>\n",
       "    <tr>\n",
       "      <th>min</th>\n",
       "      <td>32.000000</td>\n",
       "      <td>0.000000</td>\n",
       "      <td>107.000000</td>\n",
       "      <td>83.500000</td>\n",
       "      <td>48.000000</td>\n",
       "      <td>15.540000</td>\n",
       "      <td>44.000000</td>\n",
       "      <td>40.000000</td>\n",
       "    </tr>\n",
       "    <tr>\n",
       "      <th>25%</th>\n",
       "      <td>42.000000</td>\n",
       "      <td>0.000000</td>\n",
       "      <td>206.000000</td>\n",
       "      <td>117.000000</td>\n",
       "      <td>75.000000</td>\n",
       "      <td>23.070000</td>\n",
       "      <td>68.000000</td>\n",
       "      <td>71.000000</td>\n",
       "    </tr>\n",
       "    <tr>\n",
       "      <th>50%</th>\n",
       "      <td>49.000000</td>\n",
       "      <td>0.000000</td>\n",
       "      <td>234.000000</td>\n",
       "      <td>128.000000</td>\n",
       "      <td>82.000000</td>\n",
       "      <td>25.400000</td>\n",
       "      <td>75.000000</td>\n",
       "      <td>78.000000</td>\n",
       "    </tr>\n",
       "    <tr>\n",
       "      <th>75%</th>\n",
       "      <td>56.000000</td>\n",
       "      <td>20.000000</td>\n",
       "      <td>263.000000</td>\n",
       "      <td>144.000000</td>\n",
       "      <td>89.875000</td>\n",
       "      <td>28.040000</td>\n",
       "      <td>83.000000</td>\n",
       "      <td>87.000000</td>\n",
       "    </tr>\n",
       "    <tr>\n",
       "      <th>max</th>\n",
       "      <td>70.000000</td>\n",
       "      <td>70.000000</td>\n",
       "      <td>696.000000</td>\n",
       "      <td>295.000000</td>\n",
       "      <td>142.500000</td>\n",
       "      <td>56.800000</td>\n",
       "      <td>143.000000</td>\n",
       "      <td>394.000000</td>\n",
       "    </tr>\n",
       "  </tbody>\n",
       "</table>\n",
       "</div>"
      ],
      "text/plain": [
       "               age   cigsPerDay      totChol        sysBP        diaBP  \\\n",
       "count  4238.000000  4209.000000  4188.000000  4238.000000  4238.000000   \n",
       "mean     49.584946     9.003089   236.721585   132.352407    82.893464   \n",
       "std       8.572160    11.920094    44.590334    22.038097    11.910850   \n",
       "min      32.000000     0.000000   107.000000    83.500000    48.000000   \n",
       "25%      42.000000     0.000000   206.000000   117.000000    75.000000   \n",
       "50%      49.000000     0.000000   234.000000   128.000000    82.000000   \n",
       "75%      56.000000    20.000000   263.000000   144.000000    89.875000   \n",
       "max      70.000000    70.000000   696.000000   295.000000   142.500000   \n",
       "\n",
       "               BMI    heartRate      glucose  \n",
       "count  4219.000000  4237.000000  3850.000000  \n",
       "mean     25.802008    75.878924    81.966753  \n",
       "std       4.080111    12.026596    23.959998  \n",
       "min      15.540000    44.000000    40.000000  \n",
       "25%      23.070000    68.000000    71.000000  \n",
       "50%      25.400000    75.000000    78.000000  \n",
       "75%      28.040000    83.000000    87.000000  \n",
       "max      56.800000   143.000000   394.000000  "
      ]
     },
     "execution_count": 9,
     "metadata": {},
     "output_type": "execute_result"
    }
   ],
   "source": [
    "df[numerical].describe()"
   ]
  },
  {
   "cell_type": "markdown",
   "id": "644b7d08-dfa1-4ef1-aa55-5cea976c7b86",
   "metadata": {},
   "source": [
    "Plot histograms with kernel density estimate to smooth the histogram, providing complementary information about the shape of the distribution. Plot box plots as well to understand outliers."
   ]
  },
  {
   "cell_type": "code",
   "execution_count": 10,
   "id": "5a764185-6c34-4844-ab2b-9e8b9dca314f",
   "metadata": {},
   "outputs": [
    {
     "data": {
      "text/plain": [
       "<AxesSubplot:xlabel='BMI'>"
      ]
     },
     "execution_count": 10,
     "metadata": {},
     "output_type": "execute_result"
    },
    {
     "data": {
      "image/png": "[encoded data removed]",
      "text/plain": [
       "<Figure size 1080x504 with 6 Axes>"
      ]
     },
     "metadata": {
      "needs_background": "light"
     },
     "output_type": "display_data"
    }
   ],
   "source": [
    "_, axes = plt.subplots(nrows=2, ncols=3, figsize=(15, 7))\n",
    "sns.histplot(data=df, x=\"cigsPerDay\", kde=True, ax=axes[0, 0])\n",
    "sns.histplot(data=df, x=\"totChol\", kde=True, ax=axes[0, 1])\n",
    "sns.histplot(data=df, x=\"BMI\", kde=True, ax=axes[0, 2])\n",
    "sns.boxplot(data=df, x=\"cigsPerDay\", ax=axes[1, 0])\n",
    "sns.boxplot(data=df, x=\"totChol\", ax=axes[1, 1])\n",
    "sns.boxplot(data=df, x=\"BMI\", ax=axes[1, 2])"
   ]
  },
  {
   "cell_type": "code",
   "execution_count": 11,
   "id": "002080f2-ec5d-44fc-bd58-d11906bf4663",
   "metadata": {},
   "outputs": [
    {
     "data": {
      "text/plain": [
       "<AxesSubplot:xlabel='diaBP'>"
      ]
     },
     "execution_count": 11,
     "metadata": {},
     "output_type": "execute_result"
    },
    {
     "data": {
      "image/png": "[encoded data removed]",
      "text/plain": [
       "<Figure size 1080x504 with 4 Axes>"
      ]
     },
     "metadata": {
      "needs_background": "light"
     },
     "output_type": "display_data"
    }
   ],
   "source": [
    "_, axes = plt.subplots(nrows=2, ncols=2, figsize=(15, 7))\n",
    "sns.histplot(data=df, x=\"sysBP\", kde=True, ax=axes[0, 0])\n",
    "sns.histplot(data=df, x=\"diaBP\", kde=True, ax=axes[0, 1])\n",
    "sns.boxplot(data=df, x=\"sysBP\", ax=axes[1, 0])\n",
    "sns.boxplot(data=df, x=\"diaBP\", ax=axes[1, 1])"
   ]
  },
  {
   "cell_type": "code",
   "execution_count": 12,
   "id": "c4760a6d-743b-4493-bd93-783323eefe62",
   "metadata": {},
   "outputs": [
    {
     "data": {
      "text/plain": [
       "<AxesSubplot:xlabel='glucose'>"
      ]
     },
     "execution_count": 12,
     "metadata": {},
     "output_type": "execute_result"
    },
    {
     "data": {
      "image/png": "[encoded data removed]",
      "text/plain": [
       "<Figure size 1080x504 with 4 Axes>"
      ]
     },
     "metadata": {
      "needs_background": "light"
     },
     "output_type": "display_data"
    }
   ],
   "source": [
    "_, axes = plt.subplots(nrows=2, ncols=2, figsize=(15, 7))\n",
    "sns.histplot(data=df, x=\"heartRate\", kde=True, ax=axes[0, 0])\n",
    "sns.histplot(data=df, x=\"glucose\", kde=True, ax=axes[0, 1])\n",
    "sns.boxplot(data=df, x=\"heartRate\", ax=axes[1, 0])\n",
    "sns.boxplot(data=df, x=\"glucose\", ax=axes[1, 1])"
   ]
  },
  {
   "cell_type": "code",
   "execution_count": 13,
   "id": "976d81f1-581c-44b6-b311-06a61c996a4d",
   "metadata": {},
   "outputs": [
    {
     "name": "stdout",
     "output_type": "stream",
     "text": [
      "age 99% percentile is 67.0\n",
      "cigsPerDay 99% percentile is 43.0\n",
      "totChol 99% percentile is 354.1\n",
      "sysBP 99% percentile is 200.0\n",
      "diaBP 99% percentile is 118.0\n",
      "BMI 99% percentile is 39.0\n",
      "heartRate 99% percentile is 110.0\n",
      "glucose 99% percentile is 175.0\n"
     ]
    }
   ],
   "source": [
    "perc_99_dict = {}\n",
    "for feature in numerical:\n",
    "    perc_99 = np.percentile(df[feature].values[~np.isnan(df[feature].values)], 99)    \n",
    "    print(f'{feature} 99% percentile is {perc_99:.1f}')\n",
    "    perc_99_dict[feature] = perc_99"
   ]
  },
  {
   "cell_type": "markdown",
   "id": "1f5258e0-dfe4-45bd-9494-f58287c40290",
   "metadata": {},
   "source": [
    "\"cigsPerDay\" feature distribution is skewed to the right.\n",
    "\"totChol\", \"BMI\" and \"glucose\" features shows distribution skewed to the right due to outliers. Without outliers they have normal distribution.\n",
    "\"heartRate\" feature distribution close to normal.\n",
    "1. \"cigsPerDay\" feature NaN values could be filled with 0\n",
    "2. \"totChol\", \"BMI\", \"heartRate\" and \"glucose\" features NaN values could be filled with respective median values"
   ]
  },
  {
   "cell_type": "code",
   "execution_count": 14,
   "id": "6e019932-2af6-4b4e-a8cb-082eb917c99e",
   "metadata": {},
   "outputs": [],
   "source": [
    "df['cigsPerDay'] = df['cigsPerDay'].fillna(0)\n",
    "df['totChol'].fillna(value=df['totChol'].median(), inplace=True)\n",
    "df['BMI'].fillna(value=df['BMI'].median(), inplace=True)\n",
    "df['heartRate'].fillna(value=df['heartRate'].median(), inplace=True)\n",
    "df['glucose'].fillna(value=df['glucose'].median(), inplace=True)"
   ]
  },
  {
   "cell_type": "markdown",
   "id": "0af96104-ffaf-412a-9b33-070390ae8bf9",
   "metadata": {},
   "source": [
    "##### Categorical"
   ]
  },
  {
   "cell_type": "code",
   "execution_count": 16,
   "id": "17729aea-5e8c-4d7a-bb48-ee5c8eeace72",
   "metadata": {},
   "outputs": [
    {
     "data": {
      "text/plain": [
       "<AxesSubplot:xlabel='BPMeds', ylabel='count'>"
      ]
     },
     "execution_count": 16,
     "metadata": {},
     "output_type": "execute_result"
    },
    {
     "data": {
      "image/png": "[encoded data removed]",
      "text/plain": [
       "<Figure size 432x288 with 1 Axes>"
      ]
     },
     "metadata": {
      "needs_background": "light"
     },
     "output_type": "display_data"
    }
   ],
   "source": [
    "sns.countplot(x='BPMeds', data=df)"
   ]
  },
  {
   "cell_type": "markdown",
   "id": "5b99fed9-9d6a-4f9c-829b-9ec891cfd901",
   "metadata": {},
   "source": [
    "From plot above it can be concluded that \"BPMeds\" feature NaN values could be replaced with 0.0 values."
   ]
  },
  {
   "cell_type": "code",
   "execution_count": 18,
   "id": "2b258223-27c7-496e-b2ae-9b1dfc16f2b7",
   "metadata": {},
   "outputs": [],
   "source": [
    "df['BPMeds'].fillna(0.0, inplace=True)"
   ]
  },
  {
   "cell_type": "code",
   "execution_count": 19,
   "id": "e0830783-6e47-4e7f-955c-9d7f6b59aff5",
   "metadata": {},
   "outputs": [
    {
     "data": {
      "text/plain": [
       "male               0\n",
       "age                0\n",
       "currentSmoker      0\n",
       "cigsPerDay         0\n",
       "BPMeds             0\n",
       "prevalentStroke    0\n",
       "prevalentHyp       0\n",
       "diabetes           0\n",
       "totChol            0\n",
       "sysBP              0\n",
       "diaBP              0\n",
       "BMI                0\n",
       "heartRate          0\n",
       "glucose            0\n",
       "TenYearCHD         0\n",
       "dtype: int64"
      ]
     },
     "execution_count": 19,
     "metadata": {},
     "output_type": "execute_result"
    }
   ],
   "source": [
    "df.isna().sum()"
   ]
  },
  {
   "cell_type": "markdown",
   "id": "0b49815e-3b62-469d-9745-7ab5ad92fab2",
   "metadata": {
    "tags": []
   },
   "source": [
    "## EDA"
   ]
  },
  {
   "cell_type": "markdown",
   "id": "1610fc4e-2636-436c-bddc-40413a495fab",
   "metadata": {},
   "source": [
    "Normally we perform EDA on df_full_train dataset. I split the data in 60% train / 20% validation / 20% test dataset."
   ]
  },
  {
   "cell_type": "code",
   "execution_count": 21,
   "id": "397a2a67-c917-4d53-be43-597489ab2ac6",
   "metadata": {},
   "outputs": [],
   "source": [
    "df_full_train, df_test = train_test_split(df, test_size=0.2, random_state=13)\n",
    "df_train, df_val = train_test_split(df_full_train, test_size=0.25, random_state=13)"
   ]
  },
  {
   "cell_type": "code",
   "execution_count": 22,
   "id": "90ecb1b5-55a6-4bac-a34e-ced4922a832e",
   "metadata": {},
   "outputs": [],
   "source": [
    "df_train = df_train.reset_index(drop=True)\n",
    "df_val = df_val.reset_index(drop=True)\n",
    "df_test = df_test.reset_index(drop=True)\n",
    "\n",
    "y_train_full = df_full_train.TenYearCHD.values\n",
    "y_train = df_train.TenYearCHD.values\n",
    "y_val = df_val.TenYearCHD.values\n",
    "y_test = df_test.TenYearCHD.values"
   ]
  },
  {
   "cell_type": "code",
   "execution_count": 23,
   "id": "421be7da-fce5-43e1-9db8-eca95720430f",
   "metadata": {},
   "outputs": [
    {
     "data": {
      "text/plain": [
       "0    2876\n",
       "1     514\n",
       "Name: TenYearCHD, dtype: int64"
      ]
     },
     "execution_count": 23,
     "metadata": {},
     "output_type": "execute_result"
    }
   ],
   "source": [
    "df_full_train.TenYearCHD.value_counts()"
   ]
  },
  {
   "cell_type": "code",
   "execution_count": 24,
   "id": "8cd36deb-776e-41dc-a8c9-6060df48db30",
   "metadata": {},
   "outputs": [
    {
     "data": {
      "text/plain": [
       "0    0.848378\n",
       "1    0.151622\n",
       "Name: TenYearCHD, dtype: float64"
      ]
     },
     "execution_count": 24,
     "metadata": {},
     "output_type": "execute_result"
    }
   ],
   "source": [
    "df_full_train.TenYearCHD.value_counts(normalize=True)"
   ]
  },
  {
   "cell_type": "markdown",
   "id": "6707be15-4692-46bb-a28b-78d0baf8b646",
   "metadata": {},
   "source": [
    "Dataset is highly unbalanced. 2876 people (or 85%) out of 3390 are not having 10 year risk of coronary heart disease CHD."
   ]
  },
  {
   "cell_type": "markdown",
   "id": "5216b395-8982-4857-89ff-20a40176524b",
   "metadata": {},
   "source": [
    "**What are median values of numerical features for people with risk of TenYearCHD?**"
   ]
  },
  {
   "cell_type": "code",
   "execution_count": 26,
   "id": "1b87cf8e-bc2e-473a-a3da-e6eaea6e389c",
   "metadata": {},
   "outputs": [
    {
     "data": {
      "text/plain": [
       "age            55.000\n",
       "cigsPerDay      3.000\n",
       "totChol       241.000\n",
       "sysBP         138.000\n",
       "diaBP          85.000\n",
       "BMI            26.025\n",
       "heartRate      75.000\n",
       "glucose        78.000\n",
       "dtype: float64"
      ]
     },
     "execution_count": 26,
     "metadata": {},
     "output_type": "execute_result"
    }
   ],
   "source": [
    "df_full_train[df_full_train['TenYearCHD'] == 1][numerical].median()"
   ]
  },
  {
   "cell_type": "markdown",
   "id": "9fa3bba0-1dea-416c-a089-e9a47b14f80d",
   "metadata": {},
   "source": [
    "**How are numerical features correlated?**"
   ]
  },
  {
   "cell_type": "code",
   "execution_count": 28,
   "id": "79b6686f-f6f4-4be0-adad-9d8c311cd3e0",
   "metadata": {},
   "outputs": [
    {
     "data": {
      "text/html": [
       "<div>\n",
       "<style scoped>\n",
       "    .dataframe tbody tr th:only-of-type {\n",
       "        vertical-align: middle;\n",
       "    }\n",
       "\n",
       "    .dataframe tbody tr th {\n",
       "        vertical-align: top;\n",
       "    }\n",
       "\n",
       "    .dataframe thead th {\n",
       "        text-align: right;\n",
       "    }\n",
       "</style>\n",
       "<table border=\"1\" class=\"dataframe\">\n",
       "  <thead>\n",
       "    <tr style=\"text-align: right;\">\n",
       "      <th></th>\n",
       "      <th>age</th>\n",
       "      <th>cigsPerDay</th>\n",
       "      <th>totChol</th>\n",
       "      <th>sysBP</th>\n",
       "      <th>diaBP</th>\n",
       "      <th>BMI</th>\n",
       "      <th>heartRate</th>\n",
       "      <th>glucose</th>\n",
       "    </tr>\n",
       "  </thead>\n",
       "  <tbody>\n",
       "    <tr>\n",
       "      <th>age</th>\n",
       "      <td>1.000000</td>\n",
       "      <td>-0.204528</td>\n",
       "      <td>0.256556</td>\n",
       "      <td>0.390189</td>\n",
       "      <td>0.194173</td>\n",
       "      <td>0.126348</td>\n",
       "      <td>-0.015098</td>\n",
       "      <td>0.120625</td>\n",
       "    </tr>\n",
       "    <tr>\n",
       "      <th>cigsPerDay</th>\n",
       "      <td>-0.204528</td>\n",
       "      <td>1.000000</td>\n",
       "      <td>-0.032406</td>\n",
       "      <td>-0.082033</td>\n",
       "      <td>-0.053360</td>\n",
       "      <td>-0.080562</td>\n",
       "      <td>0.062718</td>\n",
       "      <td>-0.061337</td>\n",
       "    </tr>\n",
       "    <tr>\n",
       "      <th>totChol</th>\n",
       "      <td>0.256556</td>\n",
       "      <td>-0.032406</td>\n",
       "      <td>1.000000</td>\n",
       "      <td>0.207919</td>\n",
       "      <td>0.160324</td>\n",
       "      <td>0.127915</td>\n",
       "      <td>0.100885</td>\n",
       "      <td>0.066726</td>\n",
       "    </tr>\n",
       "    <tr>\n",
       "      <th>sysBP</th>\n",
       "      <td>0.390189</td>\n",
       "      <td>-0.082033</td>\n",
       "      <td>0.207919</td>\n",
       "      <td>1.000000</td>\n",
       "      <td>0.784994</td>\n",
       "      <td>0.322921</td>\n",
       "      <td>0.177959</td>\n",
       "      <td>0.134570</td>\n",
       "    </tr>\n",
       "    <tr>\n",
       "      <th>diaBP</th>\n",
       "      <td>0.194173</td>\n",
       "      <td>-0.053360</td>\n",
       "      <td>0.160324</td>\n",
       "      <td>0.784994</td>\n",
       "      <td>1.000000</td>\n",
       "      <td>0.371371</td>\n",
       "      <td>0.175843</td>\n",
       "      <td>0.047082</td>\n",
       "    </tr>\n",
       "    <tr>\n",
       "      <th>BMI</th>\n",
       "      <td>0.126348</td>\n",
       "      <td>-0.080562</td>\n",
       "      <td>0.127915</td>\n",
       "      <td>0.322921</td>\n",
       "      <td>0.371371</td>\n",
       "      <td>1.000000</td>\n",
       "      <td>0.059425</td>\n",
       "      <td>0.075903</td>\n",
       "    </tr>\n",
       "    <tr>\n",
       "      <th>heartRate</th>\n",
       "      <td>-0.015098</td>\n",
       "      <td>0.062718</td>\n",
       "      <td>0.100885</td>\n",
       "      <td>0.177959</td>\n",
       "      <td>0.175843</td>\n",
       "      <td>0.059425</td>\n",
       "      <td>1.000000</td>\n",
       "      <td>0.085719</td>\n",
       "    </tr>\n",
       "    <tr>\n",
       "      <th>glucose</th>\n",
       "      <td>0.120625</td>\n",
       "      <td>-0.061337</td>\n",
       "      <td>0.066726</td>\n",
       "      <td>0.134570</td>\n",
       "      <td>0.047082</td>\n",
       "      <td>0.075903</td>\n",
       "      <td>0.085719</td>\n",
       "      <td>1.000000</td>\n",
       "    </tr>\n",
       "  </tbody>\n",
       "</table>\n",
       "</div>"
      ],
      "text/plain": [
       "                 age  cigsPerDay   totChol     sysBP     diaBP       BMI  \\\n",
       "age         1.000000   -0.204528  0.256556  0.390189  0.194173  0.126348   \n",
       "cigsPerDay -0.204528    1.000000 -0.032406 -0.082033 -0.053360 -0.080562   \n",
       "totChol     0.256556   -0.032406  1.000000  0.207919  0.160324  0.127915   \n",
       "sysBP       0.390189   -0.082033  0.207919  1.000000  0.784994  0.322921   \n",
       "diaBP       0.194173   -0.053360  0.160324  0.784994  1.000000  0.371371   \n",
       "BMI         0.126348   -0.080562  0.127915  0.322921  0.371371  1.000000   \n",
       "heartRate  -0.015098    0.062718  0.100885  0.177959  0.175843  0.059425   \n",
       "glucose     0.120625   -0.061337  0.066726  0.134570  0.047082  0.075903   \n",
       "\n",
       "            heartRate   glucose  \n",
       "age         -0.015098  0.120625  \n",
       "cigsPerDay   0.062718 -0.061337  \n",
       "totChol      0.100885  0.066726  \n",
       "sysBP        0.177959  0.134570  \n",
       "diaBP        0.175843  0.047082  \n",
       "BMI          0.059425  0.075903  \n",
       "heartRate    1.000000  0.085719  \n",
       "glucose      0.085719  1.000000  "
      ]
     },
     "execution_count": 28,
     "metadata": {},
     "output_type": "execute_result"
    }
   ],
   "source": [
    "df_full_train[numerical].corr()"
   ]
  },
  {
   "cell_type": "code",
   "execution_count": 29,
   "id": "b624b19a-085f-49ca-9ea0-4169633d71c8",
   "metadata": {},
   "outputs": [
    {
     "data": {
      "text/plain": [
       "<AxesSubplot:title={'center':'Pearson Correlation of Numerical Features'}>"
      ]
     },
     "execution_count": 29,
     "metadata": {},
     "output_type": "execute_result"
    },
    {
     "data": {
      "image/png": "[encoded data removed]",
      "text/plain": [
       "<Figure size 1152x1152 with 2 Axes>"
      ]
     },
     "metadata": {
      "needs_background": "light"
     },
     "output_type": "display_data"
    }
   ],
   "source": [
    "colormap = plt.cm.RdBu\n",
    "plt.figure(figsize=(16,16))\n",
    "plt.title('Pearson Correlation of Numerical Features', y=1.05, size=15)\n",
    "sns.heatmap(df_full_train[numerical].corr(), linewidths=0.1, vmax=1.0, \n",
    "            square=True, cmap=colormap, linecolor='white', annot=True)"
   ]
  },
  {
   "cell_type": "markdown",
   "id": "03ead342-06b4-4e7b-bb50-f5df94b12903",
   "metadata": {},
   "source": [
    "There is a high correlation between \"diaBP\" and \"sysBP\" features. We might consider to use only one of these two features in our model."
   ]
  },
  {
   "cell_type": "markdown",
   "id": "d27e3040-798e-4083-b30f-6d6c2c8e29c3",
   "metadata": {},
   "source": [
    "Let's explore numerical features vs. target variable"
   ]
  },
  {
   "cell_type": "markdown",
   "id": "d431b8e8-3130-4d16-bf5b-75cf4ff8806e",
   "metadata": {},
   "source": [
    "Older people are more prone to have risk of desease as well as people with higher levels of \"diaBP\" and \"sysBP\". Suprisingly, \"totChol\" feature values for people with and without risk of desease are not significantly different."
   ]
  },
  {
   "cell_type": "code",
   "execution_count": 31,
   "id": "3a1fe752-d752-4e25-a87d-ee74794876e3",
   "metadata": {},
   "outputs": [
    {
     "data": {
      "image/png": "[encoded data removed]",
      "text/plain": [
       "<Figure size 720x504 with 8 Axes>"
      ]
     },
     "metadata": {
      "needs_background": "light"
     },
     "output_type": "display_data"
    }
   ],
   "source": [
    "fig, axes = plt.subplots(nrows=2, ncols=4, figsize=(10, 7))\n",
    "for idx, feature in enumerate(numerical):\n",
    "    ax = axes[int(idx / 4), idx % 4]\n",
    "    sns.boxplot(x='TenYearCHD', y=feature, data=df_full_train, ax=ax)\n",
    "    ax.set_xlabel('')\n",
    "    ax.set_ylabel(feature)\n",
    "fig.tight_layout()"
   ]
  },
  {
   "cell_type": "markdown",
   "id": "1cde617b-973e-429b-86f5-09becf55f73f",
   "metadata": {},
   "source": [
    "It is noticable that risk of TenYearCHD is higher for the people of higher age as well as people with high higher levels of sysBP and diaBP."
   ]
  },
  {
   "cell_type": "markdown",
   "id": "3d5c281c-f205-454e-b0b4-c3654693d08c",
   "metadata": {},
   "source": [
    "The graph above confirms earlier conclusions."
   ]
  },
  {
   "cell_type": "code",
   "execution_count": 33,
   "id": "128aacf0-dc64-4d5e-b908-56ab52e808f5",
   "metadata": {},
   "outputs": [
    {
     "data": {
      "text/plain": [
       "<seaborn.axisgrid.FacetGrid at 0x7fd46dbeea30>"
      ]
     },
     "execution_count": 33,
     "metadata": {},
     "output_type": "execute_result"
    },
    {
     "data": {
      "image/png": "[encoded data removed]",
      "text/plain": [
       "<Figure size 427.875x360 with 1 Axes>"
      ]
     },
     "metadata": {
      "needs_background": "light"
     },
     "output_type": "display_data"
    }
   ],
   "source": [
    "sns.lmplot(\n",
    "    x=\"age\", y=\"sysBP\", data=df_full_train, hue=\"TenYearCHD\", fit_reg=False\n",
    ")"
   ]
  },
  {
   "cell_type": "markdown",
   "id": "6f52a609-ee0f-46c5-9f34-83e920724ed5",
   "metadata": {},
   "source": [
    "From the graph above it seems again that there is a trend for people with higher age and higher level of sysBP to have risk of TenYearCHD."
   ]
  },
  {
   "cell_type": "markdown",
   "id": "196ed27c-e157-432c-b1c1-1a15ed30f10c",
   "metadata": {},
   "source": [
    "It is noticable that \"age\", \"sysBP\" and \"diaBP\" categories are the most correlated ones with target variable."
   ]
  },
  {
   "cell_type": "code",
   "execution_count": 35,
   "id": "55447147-0b88-4422-9cb3-d3cf8a6ee149",
   "metadata": {},
   "outputs": [
    {
     "data": {
      "text/plain": [
       "age           0.221998\n",
       "cigsPerDay    0.062417\n",
       "totChol       0.080488\n",
       "sysBP         0.196971\n",
       "diaBP         0.121540\n",
       "BMI           0.064169\n",
       "heartRate     0.017181\n",
       "glucose       0.104216\n",
       "dtype: float64"
      ]
     },
     "execution_count": 35,
     "metadata": {},
     "output_type": "execute_result"
    }
   ],
   "source": [
    "df_full_train[numerical].corrwith(df_full_train.TenYearCHD)"
   ]
  },
  {
   "cell_type": "markdown",
   "id": "c0a6e947-1464-48f2-a288-2ff4b8068016",
   "metadata": {},
   "source": [
    "**What is the mutual info score between categorical features and target variable?**"
   ]
  },
  {
   "cell_type": "code",
   "execution_count": 37,
   "id": "6a7092bb-ff6e-415b-8911-76a37452cb87",
   "metadata": {},
   "outputs": [
    {
     "name": "stdout",
     "output_type": "stream",
     "text": [
      "male 0.0047\n",
      "currentSmoker 0.0002\n",
      "BPMeds 0.0032\n",
      "prevalentStroke 0.0020\n",
      "prevalentHyp 0.0126\n",
      "diabetes 0.0033\n"
     ]
    }
   ],
   "source": [
    "for cat in categorical:\n",
    "    print(f'{cat} {mutual_info_score(df_full_train.TenYearCHD, df_full_train[cat]):.4f}')"
   ]
  },
  {
   "cell_type": "markdown",
   "id": "60d44fad-3128-4b3e-9156-5d212f12afe0",
   "metadata": {},
   "source": [
    "It is noticable that \"prevalentHyp\" feature provides the highest mutual info score for \"TenYearCHD\" target value. Otherwise, \"currentSmoker\" feature provides a very little mutual information score for the target value."
   ]
  },
  {
   "cell_type": "code",
   "execution_count": 39,
   "id": "5290658e-8a96-44d3-9712-4723b96f2bda",
   "metadata": {},
   "outputs": [
    {
     "data": {
      "text/plain": [
       "male               2\n",
       "currentSmoker      2\n",
       "BPMeds             2\n",
       "prevalentStroke    2\n",
       "prevalentHyp       2\n",
       "diabetes           2\n",
       "dtype: int64"
      ]
     },
     "execution_count": 39,
     "metadata": {},
     "output_type": "execute_result"
    }
   ],
   "source": [
    "df_full_train[categorical].nunique()"
   ]
  },
  {
   "cell_type": "code",
   "execution_count": 40,
   "id": "40687cea-32d5-41fd-8139-b41f4ba084ec",
   "metadata": {},
   "outputs": [
    {
     "data": {
      "text/plain": [
       "<AxesSubplot:xlabel='diabetes', ylabel='count'>"
      ]
     },
     "execution_count": 40,
     "metadata": {},
     "output_type": "execute_result"
    },
    {
     "data": {
      "image/png": "[encoded data removed]",
      "text/plain": [
       "<Figure size 1080x576 with 6 Axes>"
      ]
     },
     "metadata": {
      "needs_background": "light"
     },
     "output_type": "display_data"
    }
   ],
   "source": [
    "_, axes = plt.subplots(2, 3, sharey=True, figsize=(15, 8))\n",
    "\n",
    "sns.countplot(x='male', hue='TenYearCHD', data=df_full_train, ax=axes[0, 0])\n",
    "sns.countplot(x='currentSmoker', hue='TenYearCHD', data=df_full_train, ax=axes[0, 1])\n",
    "sns.countplot(x='BPMeds', hue='TenYearCHD', data=df_full_train, ax=axes[0, 2])\n",
    "sns.countplot(x='prevalentStroke', hue='TenYearCHD', data=df_full_train, ax=axes[1, 0])\n",
    "sns.countplot(x='prevalentHyp', hue='TenYearCHD', data=df_full_train, ax=axes[1, 1])\n",
    "sns.countplot(x='diabetes', hue='TenYearCHD', data=df_full_train, ax=axes[1, 2])"
   ]
  },
  {
   "cell_type": "code",
   "execution_count": 41,
   "id": "4a0bdca8-9ca7-4cf9-9108-e24c570472ed",
   "metadata": {},
   "outputs": [
    {
     "data": {
      "text/html": [
       "<div>\n",
       "<style scoped>\n",
       "    .dataframe tbody tr th:only-of-type {\n",
       "        vertical-align: middle;\n",
       "    }\n",
       "\n",
       "    .dataframe tbody tr th {\n",
       "        vertical-align: top;\n",
       "    }\n",
       "\n",
       "    .dataframe thead th {\n",
       "        text-align: right;\n",
       "    }\n",
       "</style>\n",
       "<table border=\"1\" class=\"dataframe\">\n",
       "  <thead>\n",
       "    <tr style=\"text-align: right;\">\n",
       "      <th>prevalentStroke</th>\n",
       "      <th>0</th>\n",
       "      <th>1</th>\n",
       "    </tr>\n",
       "    <tr>\n",
       "      <th>TenYearCHD</th>\n",
       "      <th></th>\n",
       "      <th></th>\n",
       "    </tr>\n",
       "  </thead>\n",
       "  <tbody>\n",
       "    <tr>\n",
       "      <th>0</th>\n",
       "      <td>0.845428</td>\n",
       "      <td>0.00295</td>\n",
       "    </tr>\n",
       "    <tr>\n",
       "      <th>1</th>\n",
       "      <td>0.148673</td>\n",
       "      <td>0.00295</td>\n",
       "    </tr>\n",
       "  </tbody>\n",
       "</table>\n",
       "</div>"
      ],
      "text/plain": [
       "prevalentStroke         0        1\n",
       "TenYearCHD                        \n",
       "0                0.845428  0.00295\n",
       "1                0.148673  0.00295"
      ]
     },
     "execution_count": 41,
     "metadata": {},
     "output_type": "execute_result"
    }
   ],
   "source": [
    "pd.crosstab(df_full_train['TenYearCHD'], df_full_train['prevalentStroke'], normalize=True)"
   ]
  },
  {
   "cell_type": "code",
   "execution_count": 42,
   "id": "fb647279-4815-48be-bec4-35618d461e3b",
   "metadata": {},
   "outputs": [
    {
     "data": {
      "text/html": [
       "<div>\n",
       "<style scoped>\n",
       "    .dataframe tbody tr th:only-of-type {\n",
       "        vertical-align: middle;\n",
       "    }\n",
       "\n",
       "    .dataframe tbody tr th {\n",
       "        vertical-align: top;\n",
       "    }\n",
       "\n",
       "    .dataframe thead th {\n",
       "        text-align: right;\n",
       "    }\n",
       "</style>\n",
       "<table border=\"1\" class=\"dataframe\">\n",
       "  <thead>\n",
       "    <tr style=\"text-align: right;\">\n",
       "      <th>diabetes</th>\n",
       "      <th>0</th>\n",
       "      <th>1</th>\n",
       "    </tr>\n",
       "    <tr>\n",
       "      <th>TenYearCHD</th>\n",
       "      <th></th>\n",
       "      <th></th>\n",
       "    </tr>\n",
       "  </thead>\n",
       "  <tbody>\n",
       "    <tr>\n",
       "      <th>0</th>\n",
       "      <td>0.833628</td>\n",
       "      <td>0.014749</td>\n",
       "    </tr>\n",
       "    <tr>\n",
       "      <th>1</th>\n",
       "      <td>0.143068</td>\n",
       "      <td>0.008555</td>\n",
       "    </tr>\n",
       "  </tbody>\n",
       "</table>\n",
       "</div>"
      ],
      "text/plain": [
       "diabetes           0         1\n",
       "TenYearCHD                    \n",
       "0           0.833628  0.014749\n",
       "1           0.143068  0.008555"
      ]
     },
     "execution_count": 42,
     "metadata": {},
     "output_type": "execute_result"
    }
   ],
   "source": [
    "pd.crosstab(df_full_train['TenYearCHD'], df_full_train['diabetes'], normalize=True)"
   ]
  },
  {
   "cell_type": "code",
   "execution_count": 44,
   "id": "e350d3e2-87b3-46ca-a055-8b9e6a39a8c3",
   "metadata": {},
   "outputs": [
    {
     "data": {
      "text/html": [
       "<div>\n",
       "<style scoped>\n",
       "    .dataframe tbody tr th:only-of-type {\n",
       "        vertical-align: middle;\n",
       "    }\n",
       "\n",
       "    .dataframe tbody tr th {\n",
       "        vertical-align: top;\n",
       "    }\n",
       "\n",
       "    .dataframe thead th {\n",
       "        text-align: right;\n",
       "    }\n",
       "</style>\n",
       "<table border=\"1\" class=\"dataframe\">\n",
       "  <thead>\n",
       "    <tr style=\"text-align: right;\">\n",
       "      <th>currentSmoker</th>\n",
       "      <th>0</th>\n",
       "      <th>1</th>\n",
       "    </tr>\n",
       "    <tr>\n",
       "      <th>TenYearCHD</th>\n",
       "      <th></th>\n",
       "      <th></th>\n",
       "    </tr>\n",
       "  </thead>\n",
       "  <tbody>\n",
       "    <tr>\n",
       "      <th>0</th>\n",
       "      <td>1454</td>\n",
       "      <td>1422</td>\n",
       "    </tr>\n",
       "    <tr>\n",
       "      <th>1</th>\n",
       "      <td>245</td>\n",
       "      <td>269</td>\n",
       "    </tr>\n",
       "  </tbody>\n",
       "</table>\n",
       "</div>"
      ],
      "text/plain": [
       "currentSmoker     0     1\n",
       "TenYearCHD               \n",
       "0              1454  1422\n",
       "1               245   269"
      ]
     },
     "execution_count": 44,
     "metadata": {},
     "output_type": "execute_result"
    }
   ],
   "source": [
    "pd.crosstab(df_full_train['TenYearCHD'], df_full_train['currentSmoker'])"
   ]
  },
  {
   "cell_type": "markdown",
   "id": "ca28328c-98c7-4eb6-9573-1c5d238ff428",
   "metadata": {},
   "source": [
    "We can see that dataset is highly unbalanced. One interesting observation is that contingency table for \"currentSmoker\" feature contains almost the same numbers which means that this feature is not telling us a lot about risk of having TenYearCHD. This proves our conclusion from above based on mutual info score value."
   ]
  },
  {
   "cell_type": "markdown",
   "id": "cd2dfd4e-839b-4213-9ba9-429847c9e34c",
   "metadata": {},
   "source": [
    "Select features based on conducted EDA: remove \"diaBP\" and \"currentSmoker\"."
   ]
  },
  {
   "cell_type": "code",
   "execution_count": 45,
   "id": "c9d69050-11f9-4f32-98ab-c2eebbc7ea74",
   "metadata": {},
   "outputs": [],
   "source": [
    "selected_f =  [\n",
    "    'age', 'cigsPerDay', 'totChol', 'sysBP', \n",
    "    'BMI', 'heartRate', 'glucose', 'male', \n",
    "    'currentSmoker', 'BPMeds', 'prevalentStroke', \n",
    "    'prevalentHyp', 'diabetes'\n",
    "]"
   ]
  },
  {
   "cell_type": "markdown",
   "id": "ca8d7952-7263-49ce-baa7-fa46c64b5e0e",
   "metadata": {},
   "source": [
    "## Build and Assess the models"
   ]
  },
  {
   "cell_type": "markdown",
   "id": "6c2ffd87-210f-4050-8315-307ff12208d9",
   "metadata": {
    "tags": []
   },
   "source": [
    "#### Remove outliers"
   ]
  },
  {
   "cell_type": "raw",
   "id": "73f771ea-c4b9-4c0c-b9ab-0f38833b6ce8",
   "metadata": {},
   "source": [
    "df_wo_outliers = df[(df['totChol'] <= perc_99_dict['totChol']) \n",
    "                    & (df['sysBP'] <= perc_99_dict['sysBP']) \n",
    "                    & (df['BMI'] <= perc_99_dict['BMI']) \n",
    "                    & (df['heartRate'] <= perc_99_dict['heartRate']) \n",
    "                    & (df['glucose'] <= perc_99_dict['glucose'])]"
   ]
  },
  {
   "cell_type": "raw",
   "id": "72a1e9ea-6608-49c7-8a9c-3315db032c2d",
   "metadata": {},
   "source": [
    "df_wo_outliers = df_wo_outliers[selected_f]"
   ]
  },
  {
   "cell_type": "raw",
   "id": "00fcc52d-365c-404a-991e-06d8f73ed052",
   "metadata": {},
   "source": [
    "df_full_train, df_test = train_test_split(df_wo_outliers, test_size=0.2, random_state=13)\n",
    "df_train, df_val = train_test_split(df_full_train, test_size=0.25, random_state=13)"
   ]
  },
  {
   "cell_type": "raw",
   "id": "debfb20c-2459-42e7-81da-02821cd62b37",
   "metadata": {},
   "source": [
    "df_train = df_train.reset_index(drop=True)\n",
    "df_val = df_val.reset_index(drop=True)\n",
    "df_test = df_test.reset_index(drop=True)\n",
    "\n",
    "y_train_full = df_full_train.TenYearCHD.values\n",
    "y_train = df_train.TenYearCHD.values\n",
    "y_val = df_val.TenYearCHD.values\n",
    "y_test = df_test.TenYearCHD.values"
   ]
  },
  {
   "cell_type": "markdown",
   "id": "9472f4cd-2e16-4a84-9094-67534941deb3",
   "metadata": {},
   "source": [
    "Models' performances with removed \"outliers\" is worse. "
   ]
  },
  {
   "cell_type": "code",
   "execution_count": 46,
   "id": "c4fe3ae9-8728-4985-9272-db686e556796",
   "metadata": {},
   "outputs": [],
   "source": [
    "df_full_train = df_full_train[selected_f].reset_index(drop=True)\n",
    "df_train = df_train[selected_f].reset_index(drop=True)\n",
    "df_val = df_val[selected_f].reset_index(drop=True)\n",
    "df_test = df_test[selected_f].reset_index(drop=True)"
   ]
  },
  {
   "cell_type": "markdown",
   "id": "1694d27e-0c0f-4554-b097-cac1319412fc",
   "metadata": {},
   "source": [
    "### Logistic regression"
   ]
  },
  {
   "cell_type": "markdown",
   "id": "e78ba35c-93c2-4993-96cc-959fbfab153a",
   "metadata": {},
   "source": [
    "Since we have unbalanced dataset I added class_weights dict."
   ]
  },
  {
   "cell_type": "code",
   "execution_count": 47,
   "id": "31952323-165c-45c0-9f79-39fa2d47ce63",
   "metadata": {},
   "outputs": [
    {
     "data": {
      "text/plain": [
       "LogisticRegression(C=0.1, class_weight={0: 1, 1: 4}, max_iter=10000,\n",
       "                   random_state=13)"
      ]
     },
     "execution_count": 47,
     "metadata": {},
     "output_type": "execute_result"
    }
   ],
   "source": [
    "lr = LogisticRegression(C=0.1, class_weight={0:1, 1:4}, max_iter=10000, random_state=13) \n",
    "lr.fit(df_train.values, y_train)"
   ]
  },
  {
   "cell_type": "code",
   "execution_count": 48,
   "id": "4bfad99b-fc2e-4405-9607-d4484f6661f3",
   "metadata": {},
   "outputs": [],
   "source": [
    "y_pred = lr.predict(df_val.values)\n",
    "y_pred_proba = lr.predict_proba(df_val.values)[:, 1]"
   ]
  },
  {
   "cell_type": "code",
   "execution_count": 49,
   "id": "bcf3c81f-7a03-4095-affa-4b86470b87e8",
   "metadata": {},
   "outputs": [
    {
     "data": {
      "text/plain": [
       "0.7405660377358491"
      ]
     },
     "execution_count": 49,
     "metadata": {},
     "output_type": "execute_result"
    }
   ],
   "source": [
    "accuracy_score(y_val, y_pred_proba >= 0.5)  # threshold 0.5"
   ]
  },
  {
   "cell_type": "markdown",
   "id": "72f12a86-fee0-4884-80b6-99f0e0b3d4e0",
   "metadata": {},
   "source": [
    "#### Check accuracy at different thresholds"
   ]
  },
  {
   "cell_type": "code",
   "execution_count": 50,
   "id": "b61e2b14-b995-44bb-9d3e-5d834d079a5d",
   "metadata": {
    "tags": []
   },
   "outputs": [
    {
     "name": "stdout",
     "output_type": "stream",
     "text": [
      "0.00 0.154\n",
      "0.05 0.154\n",
      "0.10 0.163\n",
      "0.15 0.238\n",
      "0.20 0.324\n",
      "0.25 0.412\n",
      "0.30 0.495\n",
      "0.35 0.565\n",
      "0.40 0.634\n",
      "0.45 0.693\n",
      "0.50 0.741\n",
      "0.55 0.790\n",
      "0.60 0.810\n",
      "0.65 0.823\n",
      "0.70 0.840\n",
      "0.75 0.847\n",
      "0.80 0.853\n",
      "0.85 0.851\n",
      "0.90 0.848\n",
      "0.95 0.847\n",
      "1.00 0.846\n"
     ]
    }
   ],
   "source": [
    "scores = []\n",
    "thresholds = np.linspace(0, 1, 21)\n",
    "for t in thresholds:\n",
    "    score = accuracy_score(y_val, y_pred_proba >= t)\n",
    "    print(f'{t:.2f} {score:.3f}')\n",
    "    scores.append(score)"
   ]
  },
  {
   "cell_type": "code",
   "execution_count": 51,
   "id": "ccd9003c-6833-475d-9b46-65ee3fdfdc89",
   "metadata": {},
   "outputs": [
    {
     "data": {
      "text/plain": [
       "[<matplotlib.lines.Line2D at 0x7fd46be179d0>]"
      ]
     },
     "execution_count": 51,
     "metadata": {},
     "output_type": "execute_result"
    },
    {
     "data": {
      "image/png": "[encoded data removed]",
      "text/plain": [
       "<Figure size 432x288 with 1 Axes>"
      ]
     },
     "metadata": {
      "needs_background": "light"
     },
     "output_type": "display_data"
    }
   ],
   "source": [
    "plt.plot(thresholds, scores)"
   ]
  },
  {
   "cell_type": "markdown",
   "id": "c4de1463-2283-467a-a9f4-5f79f004f180",
   "metadata": {},
   "source": [
    "It seems that at threshold 0.8 there is a highest accuracy."
   ]
  },
  {
   "cell_type": "code",
   "execution_count": 52,
   "id": "e6878778-4f39-41c4-8452-50cec6b05ae0",
   "metadata": {},
   "outputs": [
    {
     "data": {
      "text/plain": [
       "array([[516, 202],\n",
       "       [ 95,  35]])"
      ]
     },
     "execution_count": 52,
     "metadata": {},
     "output_type": "execute_result"
    }
   ],
   "source": [
    "confusion_matrix(y_test, y_pred)"
   ]
  },
  {
   "cell_type": "markdown",
   "id": "d7e69809-c20b-4e36-b02e-635b4e9c61c7",
   "metadata": {},
   "source": [
    "Let's calculate the auc score for our model"
   ]
  },
  {
   "cell_type": "code",
   "execution_count": 53,
   "id": "f7afe2c8-793d-46b3-958d-2712f3ff1387",
   "metadata": {},
   "outputs": [
    {
     "data": {
      "text/plain": [
       "0.732"
      ]
     },
     "execution_count": 53,
     "metadata": {},
     "output_type": "execute_result"
    }
   ],
   "source": [
    "fpr, tpr, thresholds = roc_curve(y_val, y_pred_proba)\n",
    "auc_score = round(auc(fpr, tpr), 3)\n",
    "auc_score"
   ]
  },
  {
   "cell_type": "code",
   "execution_count": 54,
   "id": "6d7cd94e-1ce4-4a5f-8902-ccc2c6ddb9f9",
   "metadata": {},
   "outputs": [
    {
     "data": {
      "text/plain": [
       "[<matplotlib.lines.Line2D at 0x7fd44dcbab20>]"
      ]
     },
     "execution_count": 54,
     "metadata": {},
     "output_type": "execute_result"
    },
    {
     "data": {
      "image/png": "[encoded data removed]",
      "text/plain": [
       "<Figure size 432x288 with 1 Axes>"
      ]
     },
     "metadata": {
      "needs_background": "light"
     },
     "output_type": "display_data"
    }
   ],
   "source": [
    "plt.plot(fpr, tpr)"
   ]
  },
  {
   "cell_type": "markdown",
   "id": "5c32fbc1-94c1-4938-855a-144478582c87",
   "metadata": {},
   "source": [
    "It is interesting to build a dataframe for recall and precision for different thresholds."
   ]
  },
  {
   "cell_type": "code",
   "execution_count": 55,
   "id": "7c869c72-a262-466d-9a33-e552bef63da9",
   "metadata": {},
   "outputs": [
    {
     "name": "stderr",
     "output_type": "stream",
     "text": [
      "/var/folders/83/dd1dp6cs4n5b8mt9sjqc20kh0000gn/T/ipykernel_7227/1521298580.py:18: RuntimeWarning: invalid value encountered in long_scalars\n",
      "  precision = tp / (tp + fp)\n"
     ]
    }
   ],
   "source": [
    "scores = []\n",
    "\n",
    "thresholds = np.linspace(0, 1, 101)\n",
    "\n",
    "for t in thresholds:\n",
    "    actual_positive = (y_val == 1)\n",
    "    actual_negative = (y_val == 0)\n",
    "    \n",
    "    predict_positive = (y_pred_proba >= t)\n",
    "    predict_negative = (y_pred_proba < t)\n",
    "    \n",
    "    tp = (predict_positive & actual_positive).sum()\n",
    "    tn = (actual_negative & predict_negative).sum()\n",
    "    \n",
    "    fp = (predict_positive & actual_negative).sum()\n",
    "    fn = (predict_negative & actual_positive).sum()\n",
    "    \n",
    "    precision = tp / (tp + fp)\n",
    "    recall = tp / (tp + fn)\n",
    "    \n",
    "    scores.append((t, tp, fp, fn, tn, precision, recall))"
   ]
  },
  {
   "cell_type": "code",
   "execution_count": 56,
   "id": "fb90c958-6c58-4788-aad6-75f28f8ca3e5",
   "metadata": {},
   "outputs": [],
   "source": [
    "columns = ['threshold', 'tp', 'fp', 'fn', 'tn', 'precision', 'recall']\n",
    "df_scores = pd.DataFrame(scores, columns=columns)"
   ]
  },
  {
   "cell_type": "code",
   "execution_count": 57,
   "id": "50c64c83-893e-4074-ac67-f8ba79c8ce3e",
   "metadata": {},
   "outputs": [
    {
     "data": {
      "text/html": [
       "<div>\n",
       "<style scoped>\n",
       "    .dataframe tbody tr th:only-of-type {\n",
       "        vertical-align: middle;\n",
       "    }\n",
       "\n",
       "    .dataframe tbody tr th {\n",
       "        vertical-align: top;\n",
       "    }\n",
       "\n",
       "    .dataframe thead th {\n",
       "        text-align: right;\n",
       "    }\n",
       "</style>\n",
       "<table border=\"1\" class=\"dataframe\">\n",
       "  <thead>\n",
       "    <tr style=\"text-align: right;\">\n",
       "      <th></th>\n",
       "      <th>threshold</th>\n",
       "      <th>tp</th>\n",
       "      <th>fp</th>\n",
       "      <th>fn</th>\n",
       "      <th>tn</th>\n",
       "      <th>precision</th>\n",
       "      <th>recall</th>\n",
       "    </tr>\n",
       "  </thead>\n",
       "  <tbody>\n",
       "    <tr>\n",
       "      <th>0</th>\n",
       "      <td>0.0</td>\n",
       "      <td>131</td>\n",
       "      <td>717</td>\n",
       "      <td>0</td>\n",
       "      <td>0</td>\n",
       "      <td>0.154481</td>\n",
       "      <td>1.000000</td>\n",
       "    </tr>\n",
       "    <tr>\n",
       "      <th>10</th>\n",
       "      <td>0.1</td>\n",
       "      <td>131</td>\n",
       "      <td>710</td>\n",
       "      <td>0</td>\n",
       "      <td>7</td>\n",
       "      <td>0.155767</td>\n",
       "      <td>1.000000</td>\n",
       "    </tr>\n",
       "    <tr>\n",
       "      <th>20</th>\n",
       "      <td>0.2</td>\n",
       "      <td>123</td>\n",
       "      <td>565</td>\n",
       "      <td>8</td>\n",
       "      <td>152</td>\n",
       "      <td>0.178779</td>\n",
       "      <td>0.938931</td>\n",
       "    </tr>\n",
       "    <tr>\n",
       "      <th>30</th>\n",
       "      <td>0.3</td>\n",
       "      <td>109</td>\n",
       "      <td>406</td>\n",
       "      <td>22</td>\n",
       "      <td>311</td>\n",
       "      <td>0.211650</td>\n",
       "      <td>0.832061</td>\n",
       "    </tr>\n",
       "    <tr>\n",
       "      <th>40</th>\n",
       "      <td>0.4</td>\n",
       "      <td>94</td>\n",
       "      <td>273</td>\n",
       "      <td>37</td>\n",
       "      <td>444</td>\n",
       "      <td>0.256131</td>\n",
       "      <td>0.717557</td>\n",
       "    </tr>\n",
       "    <tr>\n",
       "      <th>50</th>\n",
       "      <td>0.5</td>\n",
       "      <td>74</td>\n",
       "      <td>163</td>\n",
       "      <td>57</td>\n",
       "      <td>554</td>\n",
       "      <td>0.312236</td>\n",
       "      <td>0.564885</td>\n",
       "    </tr>\n",
       "    <tr>\n",
       "      <th>60</th>\n",
       "      <td>0.6</td>\n",
       "      <td>48</td>\n",
       "      <td>78</td>\n",
       "      <td>83</td>\n",
       "      <td>639</td>\n",
       "      <td>0.380952</td>\n",
       "      <td>0.366412</td>\n",
       "    </tr>\n",
       "    <tr>\n",
       "      <th>70</th>\n",
       "      <td>0.7</td>\n",
       "      <td>24</td>\n",
       "      <td>29</td>\n",
       "      <td>107</td>\n",
       "      <td>688</td>\n",
       "      <td>0.452830</td>\n",
       "      <td>0.183206</td>\n",
       "    </tr>\n",
       "    <tr>\n",
       "      <th>80</th>\n",
       "      <td>0.8</td>\n",
       "      <td>9</td>\n",
       "      <td>3</td>\n",
       "      <td>122</td>\n",
       "      <td>714</td>\n",
       "      <td>0.750000</td>\n",
       "      <td>0.068702</td>\n",
       "    </tr>\n",
       "    <tr>\n",
       "      <th>90</th>\n",
       "      <td>0.9</td>\n",
       "      <td>2</td>\n",
       "      <td>0</td>\n",
       "      <td>129</td>\n",
       "      <td>717</td>\n",
       "      <td>1.000000</td>\n",
       "      <td>0.015267</td>\n",
       "    </tr>\n",
       "    <tr>\n",
       "      <th>100</th>\n",
       "      <td>1.0</td>\n",
       "      <td>0</td>\n",
       "      <td>0</td>\n",
       "      <td>131</td>\n",
       "      <td>717</td>\n",
       "      <td>NaN</td>\n",
       "      <td>0.000000</td>\n",
       "    </tr>\n",
       "  </tbody>\n",
       "</table>\n",
       "</div>"
      ],
      "text/plain": [
       "     threshold   tp   fp   fn   tn  precision    recall\n",
       "0          0.0  131  717    0    0   0.154481  1.000000\n",
       "10         0.1  131  710    0    7   0.155767  1.000000\n",
       "20         0.2  123  565    8  152   0.178779  0.938931\n",
       "30         0.3  109  406   22  311   0.211650  0.832061\n",
       "40         0.4   94  273   37  444   0.256131  0.717557\n",
       "50         0.5   74  163   57  554   0.312236  0.564885\n",
       "60         0.6   48   78   83  639   0.380952  0.366412\n",
       "70         0.7   24   29  107  688   0.452830  0.183206\n",
       "80         0.8    9    3  122  714   0.750000  0.068702\n",
       "90         0.9    2    0  129  717   1.000000  0.015267\n",
       "100        1.0    0    0  131  717        NaN  0.000000"
      ]
     },
     "execution_count": 57,
     "metadata": {},
     "output_type": "execute_result"
    }
   ],
   "source": [
    "df_scores[::10]"
   ]
  },
  {
   "cell_type": "code",
   "execution_count": 58,
   "id": "c0733c7e-5125-45b9-abb9-fae260e0d121",
   "metadata": {},
   "outputs": [
    {
     "data": {
      "text/plain": [
       "<matplotlib.legend.Legend at 0x7fd44e8b2190>"
      ]
     },
     "execution_count": 58,
     "metadata": {},
     "output_type": "execute_result"
    },
    {
     "data": {
      "image/png": "[encoded data removed]",
      "text/plain": [
       "<Figure size 432x288 with 1 Axes>"
      ]
     },
     "metadata": {
      "needs_background": "light"
     },
     "output_type": "display_data"
    }
   ],
   "source": [
    "plt.plot(df_scores.threshold, df_scores['precision'], label='precision')\n",
    "plt.plot(df_scores.threshold, df_scores['recall'], label='recall')\n",
    "plt.legend()"
   ]
  },
  {
   "cell_type": "markdown",
   "id": "61abdc3d-3577-4979-840b-b416e2d671de",
   "metadata": {},
   "source": [
    "It seems interesting that interception between precision and recall occurs at approx. 0.6 threshold whereas high accuracy could be obtained at 0.8 threshold. Let's calculate and look at f1_score which combines precision and recall metrics."
   ]
  },
  {
   "cell_type": "code",
   "execution_count": 59,
   "id": "718faa1a-5fad-4e35-8638-33e9e6c19696",
   "metadata": {},
   "outputs": [],
   "source": [
    "df_scores['f1_score'] = ((2 * df_scores['precision'] * df_scores['recall']) \n",
    "                         / (df_scores['precision'] + df_scores['recall']))"
   ]
  },
  {
   "cell_type": "code",
   "execution_count": 60,
   "id": "3f82af8b-f1c5-432f-8508-ab80ac8e352c",
   "metadata": {},
   "outputs": [
    {
     "data": {
      "text/html": [
       "<div>\n",
       "<style scoped>\n",
       "    .dataframe tbody tr th:only-of-type {\n",
       "        vertical-align: middle;\n",
       "    }\n",
       "\n",
       "    .dataframe tbody tr th {\n",
       "        vertical-align: top;\n",
       "    }\n",
       "\n",
       "    .dataframe thead th {\n",
       "        text-align: right;\n",
       "    }\n",
       "</style>\n",
       "<table border=\"1\" class=\"dataframe\">\n",
       "  <thead>\n",
       "    <tr style=\"text-align: right;\">\n",
       "      <th></th>\n",
       "      <th>threshold</th>\n",
       "      <th>tp</th>\n",
       "      <th>fp</th>\n",
       "      <th>fn</th>\n",
       "      <th>tn</th>\n",
       "      <th>precision</th>\n",
       "      <th>recall</th>\n",
       "      <th>f1_score</th>\n",
       "    </tr>\n",
       "  </thead>\n",
       "  <tbody>\n",
       "    <tr>\n",
       "      <th>53</th>\n",
       "      <td>0.53</td>\n",
       "      <td>69</td>\n",
       "      <td>126</td>\n",
       "      <td>62</td>\n",
       "      <td>591</td>\n",
       "      <td>0.353846</td>\n",
       "      <td>0.526718</td>\n",
       "      <td>0.423313</td>\n",
       "    </tr>\n",
       "  </tbody>\n",
       "</table>\n",
       "</div>"
      ],
      "text/plain": [
       "    threshold  tp   fp  fn   tn  precision    recall  f1_score\n",
       "53       0.53  69  126  62  591   0.353846  0.526718  0.423313"
      ]
     },
     "execution_count": 60,
     "metadata": {},
     "output_type": "execute_result"
    }
   ],
   "source": [
    "df_scores[df_scores['f1_score'] == df_scores.f1_score.max()]"
   ]
  },
  {
   "cell_type": "code",
   "execution_count": 61,
   "id": "fa678f04-03f8-45cb-be82-24de9e1fb6c4",
   "metadata": {},
   "outputs": [
    {
     "name": "stdout",
     "output_type": "stream",
     "text": [
      "              precision    recall  f1-score   support\n",
      "\n",
      "           0       0.91      0.77      0.83       717\n",
      "           1       0.31      0.56      0.40       131\n",
      "\n",
      "    accuracy                           0.74       848\n",
      "   macro avg       0.61      0.67      0.62       848\n",
      "weighted avg       0.81      0.74      0.77       848\n",
      "\n"
     ]
    }
   ],
   "source": [
    "print(classification_report(y_val, y_pred))"
   ]
  },
  {
   "cell_type": "markdown",
   "id": "50770c3b-0cca-425d-97ec-88afe8815ff6",
   "metadata": {},
   "source": [
    "Let's evaluate the model using Area Under the Receiver Operating Characteristic Curve metric."
   ]
  },
  {
   "cell_type": "code",
   "execution_count": 62,
   "id": "7c716000-2cef-40ac-b103-4b2a1e85252a",
   "metadata": {},
   "outputs": [
    {
     "data": {
      "text/plain": [
       "0.732"
      ]
     },
     "execution_count": 62,
     "metadata": {},
     "output_type": "execute_result"
    }
   ],
   "source": [
    "round(roc_auc_score(y_val, y_pred_proba), 3)"
   ]
  },
  {
   "cell_type": "code",
   "execution_count": 63,
   "id": "a9a1a4e7-6647-439b-9051-04d2da32e479",
   "metadata": {},
   "outputs": [
    {
     "data": {
      "text/html": [
       "<div>\n",
       "<style scoped>\n",
       "    .dataframe tbody tr th:only-of-type {\n",
       "        vertical-align: middle;\n",
       "    }\n",
       "\n",
       "    .dataframe tbody tr th {\n",
       "        vertical-align: top;\n",
       "    }\n",
       "\n",
       "    .dataframe thead th {\n",
       "        text-align: right;\n",
       "    }\n",
       "</style>\n",
       "<table border=\"1\" class=\"dataframe\">\n",
       "  <thead>\n",
       "    <tr style=\"text-align: right;\">\n",
       "      <th></th>\n",
       "      <th>c value</th>\n",
       "      <th>auc</th>\n",
       "    </tr>\n",
       "  </thead>\n",
       "  <tbody>\n",
       "    <tr>\n",
       "      <th>0</th>\n",
       "      <td>0.1</td>\n",
       "      <td>0.732</td>\n",
       "    </tr>\n",
       "    <tr>\n",
       "      <th>1</th>\n",
       "      <td>0.2</td>\n",
       "      <td>0.731</td>\n",
       "    </tr>\n",
       "    <tr>\n",
       "      <th>2</th>\n",
       "      <td>0.3</td>\n",
       "      <td>0.729</td>\n",
       "    </tr>\n",
       "    <tr>\n",
       "      <th>3</th>\n",
       "      <td>0.4</td>\n",
       "      <td>0.730</td>\n",
       "    </tr>\n",
       "    <tr>\n",
       "      <th>4</th>\n",
       "      <td>0.5</td>\n",
       "      <td>0.729</td>\n",
       "    </tr>\n",
       "    <tr>\n",
       "      <th>5</th>\n",
       "      <td>0.6</td>\n",
       "      <td>0.729</td>\n",
       "    </tr>\n",
       "    <tr>\n",
       "      <th>6</th>\n",
       "      <td>0.7</td>\n",
       "      <td>0.730</td>\n",
       "    </tr>\n",
       "    <tr>\n",
       "      <th>7</th>\n",
       "      <td>0.8</td>\n",
       "      <td>0.729</td>\n",
       "    </tr>\n",
       "    <tr>\n",
       "      <th>8</th>\n",
       "      <td>0.9</td>\n",
       "      <td>0.729</td>\n",
       "    </tr>\n",
       "    <tr>\n",
       "      <th>9</th>\n",
       "      <td>1.0</td>\n",
       "      <td>0.730</td>\n",
       "    </tr>\n",
       "  </tbody>\n",
       "</table>\n",
       "</div>"
      ],
      "text/plain": [
       "   c value    auc\n",
       "0      0.1  0.732\n",
       "1      0.2  0.731\n",
       "2      0.3  0.729\n",
       "3      0.4  0.730\n",
       "4      0.5  0.729\n",
       "5      0.6  0.729\n",
       "6      0.7  0.730\n",
       "7      0.8  0.729\n",
       "8      0.9  0.729\n",
       "9      1.0  0.730"
      ]
     },
     "execution_count": 63,
     "metadata": {},
     "output_type": "execute_result"
    }
   ],
   "source": [
    "scores_ls_c = []\n",
    "\n",
    "for c in np.linspace(0.1, 1.0, 10):\n",
    "    lr = LogisticRegression(C=c,\n",
    "                            class_weight={0:1, 1:4}, \n",
    "                            max_iter=10000, \n",
    "                            random_state=13) \n",
    "    lr.fit(df_train.values, y_train)\n",
    "    \n",
    "    y_pred = lr.predict_proba(df_val.values)[:, 1]\n",
    "    auc = round(roc_auc_score(y_val, y_pred), 3)\n",
    "    scores_ls_c.append((c, auc))\n",
    "columns = ['c value', 'auc']\n",
    "df_scores_ls_c = pd.DataFrame(scores_ls_c, columns=columns)\n",
    "df_scores_ls_c"
   ]
  },
  {
   "cell_type": "code",
   "execution_count": 64,
   "id": "532c41bf-bcaa-4688-8b3a-a860f567a888",
   "metadata": {},
   "outputs": [],
   "source": [
    "best_c = 0.1"
   ]
  },
  {
   "cell_type": "code",
   "execution_count": 65,
   "id": "251020c3-eed2-4176-8cc1-443d24d60805",
   "metadata": {},
   "outputs": [
    {
     "name": "stdout",
     "output_type": "stream",
     "text": [
      "ROC AUC metric for best LR: 0.732\n"
     ]
    }
   ],
   "source": [
    "lr = LogisticRegression(C=best_c,\n",
    "                        class_weight={0:1, 1:4}, \n",
    "                        max_iter=10000, \n",
    "                        random_state=13)\n",
    "lr.fit(df_train.values, y_train)\n",
    "y_pred = lr.predict_proba(df_val.values)[:, 1]\n",
    "lr_auc = roc_auc_score(y_val, y_pred)\n",
    "print(f'ROC AUC metric for best LR: {round(lr_auc, 3)}')"
   ]
  },
  {
   "cell_type": "markdown",
   "id": "b162531e-5a4b-4bb0-867f-2ff7c10bf48c",
   "metadata": {},
   "source": [
    "### Decision Tree"
   ]
  },
  {
   "cell_type": "code",
   "execution_count": 66,
   "id": "30a42354-5c70-456f-b97d-a219a4a10961",
   "metadata": {},
   "outputs": [],
   "source": [
    "scores_dt = []\n",
    "\n",
    "for d in [4, 5, 6, 7, 10, 15, 20, None]:\n",
    "    for s in [1, 2, 5, 10, 15, 20, 100, 200, 500]:\n",
    "        dt = DecisionTreeClassifier(max_depth=d, \n",
    "                                    min_samples_leaf=s, \n",
    "                                    class_weight={0:1, 1:4}, \n",
    "                                    random_state=13)\n",
    "        dt.fit(df_train.values, y_train)\n",
    "\n",
    "        y_pred = dt.predict(df_val.values)\n",
    "        y_pred_proba = dt.predict_proba(df_val.values)[:, 1]\n",
    "        p, r, _, _ = precision_recall_fscore_support(y_val, y_pred, \n",
    "                                                     average='binary', pos_label=1)\n",
    "        auc = roc_auc_score(y_val, y_pred_proba)\n",
    "        \n",
    "        scores_dt.append((d, s, auc, p, r))"
   ]
  },
  {
   "cell_type": "code",
   "execution_count": 67,
   "id": "bc2e8129-9e50-4a47-865b-b30e6473f145",
   "metadata": {},
   "outputs": [
    {
     "data": {
      "text/html": [
       "<div>\n",
       "<style scoped>\n",
       "    .dataframe tbody tr th:only-of-type {\n",
       "        vertical-align: middle;\n",
       "    }\n",
       "\n",
       "    .dataframe tbody tr th {\n",
       "        vertical-align: top;\n",
       "    }\n",
       "\n",
       "    .dataframe thead th {\n",
       "        text-align: right;\n",
       "    }\n",
       "</style>\n",
       "<table border=\"1\" class=\"dataframe\">\n",
       "  <thead>\n",
       "    <tr style=\"text-align: right;\">\n",
       "      <th></th>\n",
       "      <th>max_depth</th>\n",
       "      <th>min_samples_leaf</th>\n",
       "      <th>auc</th>\n",
       "      <th>precision</th>\n",
       "      <th>recall</th>\n",
       "    </tr>\n",
       "  </thead>\n",
       "  <tbody>\n",
       "    <tr>\n",
       "      <th>0</th>\n",
       "      <td>4.0</td>\n",
       "      <td>1</td>\n",
       "      <td>0.691484</td>\n",
       "      <td>0.261438</td>\n",
       "      <td>0.610687</td>\n",
       "    </tr>\n",
       "    <tr>\n",
       "      <th>1</th>\n",
       "      <td>4.0</td>\n",
       "      <td>2</td>\n",
       "      <td>0.691484</td>\n",
       "      <td>0.261438</td>\n",
       "      <td>0.610687</td>\n",
       "    </tr>\n",
       "    <tr>\n",
       "      <th>2</th>\n",
       "      <td>4.0</td>\n",
       "      <td>5</td>\n",
       "      <td>0.691484</td>\n",
       "      <td>0.261438</td>\n",
       "      <td>0.610687</td>\n",
       "    </tr>\n",
       "    <tr>\n",
       "      <th>3</th>\n",
       "      <td>4.0</td>\n",
       "      <td>10</td>\n",
       "      <td>0.691484</td>\n",
       "      <td>0.261438</td>\n",
       "      <td>0.610687</td>\n",
       "    </tr>\n",
       "    <tr>\n",
       "      <th>4</th>\n",
       "      <td>4.0</td>\n",
       "      <td>15</td>\n",
       "      <td>0.686161</td>\n",
       "      <td>0.263514</td>\n",
       "      <td>0.595420</td>\n",
       "    </tr>\n",
       "  </tbody>\n",
       "</table>\n",
       "</div>"
      ],
      "text/plain": [
       "   max_depth  min_samples_leaf       auc  precision    recall\n",
       "0        4.0                 1  0.691484   0.261438  0.610687\n",
       "1        4.0                 2  0.691484   0.261438  0.610687\n",
       "2        4.0                 5  0.691484   0.261438  0.610687\n",
       "3        4.0                10  0.691484   0.261438  0.610687\n",
       "4        4.0                15  0.686161   0.263514  0.595420"
      ]
     },
     "execution_count": 67,
     "metadata": {},
     "output_type": "execute_result"
    }
   ],
   "source": [
    "columns = ['max_depth', 'min_samples_leaf', 'auc', 'precision', 'recall']\n",
    "df_scores_dt = pd.DataFrame(scores_dt, columns=columns)\n",
    "df_scores_dt.head()"
   ]
  },
  {
   "cell_type": "code",
   "execution_count": 68,
   "id": "45526114-f3c1-4070-b5ba-fdef5027043f",
   "metadata": {},
   "outputs": [
    {
     "data": {
      "text/html": [
       "<div>\n",
       "<style scoped>\n",
       "    .dataframe tbody tr th:only-of-type {\n",
       "        vertical-align: middle;\n",
       "    }\n",
       "\n",
       "    .dataframe tbody tr th {\n",
       "        vertical-align: top;\n",
       "    }\n",
       "\n",
       "    .dataframe thead tr th {\n",
       "        text-align: left;\n",
       "    }\n",
       "\n",
       "    .dataframe thead tr:last-of-type th {\n",
       "        text-align: right;\n",
       "    }\n",
       "</style>\n",
       "<table border=\"1\" class=\"dataframe\">\n",
       "  <thead>\n",
       "    <tr>\n",
       "      <th></th>\n",
       "      <th colspan=\"8\" halign=\"left\">auc</th>\n",
       "    </tr>\n",
       "    <tr>\n",
       "      <th>max_depth</th>\n",
       "      <th>NaN</th>\n",
       "      <th>4.0</th>\n",
       "      <th>5.0</th>\n",
       "      <th>6.0</th>\n",
       "      <th>7.0</th>\n",
       "      <th>10.0</th>\n",
       "      <th>15.0</th>\n",
       "      <th>20.0</th>\n",
       "    </tr>\n",
       "    <tr>\n",
       "      <th>min_samples_leaf</th>\n",
       "      <th></th>\n",
       "      <th></th>\n",
       "      <th></th>\n",
       "      <th></th>\n",
       "      <th></th>\n",
       "      <th></th>\n",
       "      <th></th>\n",
       "      <th></th>\n",
       "    </tr>\n",
       "  </thead>\n",
       "  <tbody>\n",
       "    <tr>\n",
       "      <th>1</th>\n",
       "      <td>0.533</td>\n",
       "      <td>0.691</td>\n",
       "      <td>0.677</td>\n",
       "      <td>0.636</td>\n",
       "      <td>0.611</td>\n",
       "      <td>0.533</td>\n",
       "      <td>0.537</td>\n",
       "      <td>0.533</td>\n",
       "    </tr>\n",
       "    <tr>\n",
       "      <th>2</th>\n",
       "      <td>0.567</td>\n",
       "      <td>0.691</td>\n",
       "      <td>0.677</td>\n",
       "      <td>0.635</td>\n",
       "      <td>0.612</td>\n",
       "      <td>0.534</td>\n",
       "      <td>0.549</td>\n",
       "      <td>0.567</td>\n",
       "    </tr>\n",
       "    <tr>\n",
       "      <th>5</th>\n",
       "      <td>0.593</td>\n",
       "      <td>0.691</td>\n",
       "      <td>0.677</td>\n",
       "      <td>0.635</td>\n",
       "      <td>0.622</td>\n",
       "      <td>0.587</td>\n",
       "      <td>0.593</td>\n",
       "      <td>0.593</td>\n",
       "    </tr>\n",
       "    <tr>\n",
       "      <th>10</th>\n",
       "      <td>0.581</td>\n",
       "      <td>0.691</td>\n",
       "      <td>0.660</td>\n",
       "      <td>0.633</td>\n",
       "      <td>0.627</td>\n",
       "      <td>0.588</td>\n",
       "      <td>0.581</td>\n",
       "      <td>0.581</td>\n",
       "    </tr>\n",
       "    <tr>\n",
       "      <th>15</th>\n",
       "      <td>0.601</td>\n",
       "      <td>0.686</td>\n",
       "      <td>0.647</td>\n",
       "      <td>0.641</td>\n",
       "      <td>0.621</td>\n",
       "      <td>0.620</td>\n",
       "      <td>0.601</td>\n",
       "      <td>0.601</td>\n",
       "    </tr>\n",
       "    <tr>\n",
       "      <th>20</th>\n",
       "      <td>0.631</td>\n",
       "      <td>0.693</td>\n",
       "      <td>0.668</td>\n",
       "      <td>0.652</td>\n",
       "      <td>0.656</td>\n",
       "      <td>0.637</td>\n",
       "      <td>0.631</td>\n",
       "      <td>0.631</td>\n",
       "    </tr>\n",
       "    <tr>\n",
       "      <th>100</th>\n",
       "      <td>0.688</td>\n",
       "      <td>0.701</td>\n",
       "      <td>0.690</td>\n",
       "      <td>0.688</td>\n",
       "      <td>0.688</td>\n",
       "      <td>0.688</td>\n",
       "      <td>0.688</td>\n",
       "      <td>0.688</td>\n",
       "    </tr>\n",
       "    <tr>\n",
       "      <th>200</th>\n",
       "      <td>0.706</td>\n",
       "      <td>0.706</td>\n",
       "      <td>0.706</td>\n",
       "      <td>0.706</td>\n",
       "      <td>0.706</td>\n",
       "      <td>0.706</td>\n",
       "      <td>0.706</td>\n",
       "      <td>0.706</td>\n",
       "    </tr>\n",
       "    <tr>\n",
       "      <th>500</th>\n",
       "      <td>0.681</td>\n",
       "      <td>0.681</td>\n",
       "      <td>0.681</td>\n",
       "      <td>0.681</td>\n",
       "      <td>0.681</td>\n",
       "      <td>0.681</td>\n",
       "      <td>0.681</td>\n",
       "      <td>0.681</td>\n",
       "    </tr>\n",
       "  </tbody>\n",
       "</table>\n",
       "</div>"
      ],
      "text/plain": [
       "                    auc                                                 \n",
       "max_depth           NaN   4.0    5.0    6.0    7.0    10.0   15.0   20.0\n",
       "min_samples_leaf                                                        \n",
       "1                 0.533  0.691  0.677  0.636  0.611  0.533  0.537  0.533\n",
       "2                 0.567  0.691  0.677  0.635  0.612  0.534  0.549  0.567\n",
       "5                 0.593  0.691  0.677  0.635  0.622  0.587  0.593  0.593\n",
       "10                0.581  0.691  0.660  0.633  0.627  0.588  0.581  0.581\n",
       "15                0.601  0.686  0.647  0.641  0.621  0.620  0.601  0.601\n",
       "20                0.631  0.693  0.668  0.652  0.656  0.637  0.631  0.631\n",
       "100               0.688  0.701  0.690  0.688  0.688  0.688  0.688  0.688\n",
       "200               0.706  0.706  0.706  0.706  0.706  0.706  0.706  0.706\n",
       "500               0.681  0.681  0.681  0.681  0.681  0.681  0.681  0.681"
      ]
     },
     "execution_count": 68,
     "metadata": {},
     "output_type": "execute_result"
    }
   ],
   "source": [
    "df_scores_dt_pivot = df_scores_dt.pivot(index='min_samples_leaf', \n",
    "                                     columns=['max_depth'], \n",
    "                                     values=['auc'])\n",
    "df_scores_dt_pivot.round(3)"
   ]
  },
  {
   "cell_type": "code",
   "execution_count": 69,
   "id": "b41d96d9-0e51-4937-b1d3-c9fb895a338e",
   "metadata": {},
   "outputs": [
    {
     "data": {
      "text/plain": [
       "<AxesSubplot:xlabel='None-max_depth', ylabel='min_samples_leaf'>"
      ]
     },
     "execution_count": 69,
     "metadata": {},
     "output_type": "execute_result"
    },
    {
     "data": {
      "image/png": "[encoded data removed]",
      "text/plain": [
       "<Figure size 432x288 with 2 Axes>"
      ]
     },
     "metadata": {
      "needs_background": "light"
     },
     "output_type": "display_data"
    }
   ],
   "source": [
    "sns.heatmap(df_scores_dt_pivot, annot=True, fmt='.3f')"
   ]
  },
  {
   "cell_type": "code",
   "execution_count": 70,
   "id": "f050f9df-85ec-4a84-ae77-79a6978be04b",
   "metadata": {},
   "outputs": [],
   "source": [
    "max_depth_dt = 4\n",
    "min_samples_leaf_dt = 200"
   ]
  },
  {
   "cell_type": "code",
   "execution_count": 71,
   "id": "882a3ad9-1fed-4290-9ab7-2a54c6cddd8c",
   "metadata": {},
   "outputs": [
    {
     "name": "stdout",
     "output_type": "stream",
     "text": [
      "ROC AUC metric for best DT: 0.718\n"
     ]
    }
   ],
   "source": [
    "dt = DecisionTreeClassifier(max_depth=max_depth_dt, \n",
    "                            min_samples_leaf=min_samples_leaf_dt, \n",
    "                            class_weight={0:1, 1:5}, \n",
    "                            random_state=13)\n",
    "dt.fit(df_train.values, y_train)\n",
    "y_pred_proba = dt.predict_proba(df_val.values)[:, 1]\n",
    "dt_auc = roc_auc_score(y_val, y_pred_proba)\n",
    "print(f'ROC AUC metric for best DT: {round(dt_auc, 3)}')"
   ]
  },
  {
   "cell_type": "markdown",
   "id": "dcf5f341-b383-45b3-855f-4a18897f197a",
   "metadata": {},
   "source": [
    "### Random Forest"
   ]
  },
  {
   "cell_type": "code",
   "execution_count": 72,
   "id": "016aec4b-0d21-4f12-8966-872715bded25",
   "metadata": {},
   "outputs": [
    {
     "data": {
      "application/vnd.jupyter.widget-view+json": {
       "model_id": "eaec566d5f4c437a88e7c2c0a5b4f5ef",
       "version_major": 2,
       "version_minor": 0
      },
      "text/plain": [
       "  0%|          | 0/5 [00:00<?, ?it/s]"
      ]
     },
     "metadata": {},
     "output_type": "display_data"
    },
    {
     "data": {
      "application/vnd.jupyter.widget-view+json": {
       "model_id": "7510306e2945479492804624f80eecf7",
       "version_major": 2,
       "version_minor": 0
      },
      "text/plain": [
       "  0%|          | 0/20 [00:00<?, ?it/s]"
      ]
     },
     "metadata": {},
     "output_type": "display_data"
    },
    {
     "data": {
      "application/vnd.jupyter.widget-view+json": {
       "model_id": "d474d3d5b4c54532b1646aeed59d24b4",
       "version_major": 2,
       "version_minor": 0
      },
      "text/plain": [
       "  0%|          | 0/20 [00:00<?, ?it/s]"
      ]
     },
     "metadata": {},
     "output_type": "display_data"
    },
    {
     "data": {
      "application/vnd.jupyter.widget-view+json": {
       "model_id": "6c524081b9db4da3bc85d8b1fa0534a4",
       "version_major": 2,
       "version_minor": 0
      },
      "text/plain": [
       "  0%|          | 0/20 [00:00<?, ?it/s]"
      ]
     },
     "metadata": {},
     "output_type": "display_data"
    },
    {
     "data": {
      "application/vnd.jupyter.widget-view+json": {
       "model_id": "48e7a1b9f37d45349d673e3fdd4516fc",
       "version_major": 2,
       "version_minor": 0
      },
      "text/plain": [
       "  0%|          | 0/20 [00:00<?, ?it/s]"
      ]
     },
     "metadata": {},
     "output_type": "display_data"
    },
    {
     "data": {
      "application/vnd.jupyter.widget-view+json": {
       "model_id": "aa096d93172a4b3d83c3d4e41afc0155",
       "version_major": 2,
       "version_minor": 0
      },
      "text/plain": [
       "  0%|          | 0/20 [00:00<?, ?it/s]"
      ]
     },
     "metadata": {},
     "output_type": "display_data"
    }
   ],
   "source": [
    "scores_rf = []\n",
    "\n",
    "for d in tqdm([3, 5, 7, 10, 15]):\n",
    "    rf = RandomForestClassifier(n_estimators=0,\n",
    "                               max_depth=d,\n",
    "                               random_state=13, class_weight={0:1, 1:4},\n",
    "                               n_jobs=-1,\n",
    "                               warm_start=True)\n",
    "    for n in tqdm(range(10, 201, 10)):\n",
    "        rf.n_estimators = n\n",
    "        rf.fit(df_train.values, y_train)\n",
    "\n",
    "        y_pred_proba = rf.predict_proba(df_val.values)[:, 1]\n",
    "        auc = roc_auc_score(y_val, y_pred_proba)\n",
    "        scores_rf.append((d, n, auc))\n",
    "columns = ['max_depth', 'n_estimators', 'auc']\n",
    "df_scores_rf = pd.DataFrame(scores_rf, columns=columns)"
   ]
  },
  {
   "cell_type": "code",
   "execution_count": 73,
   "id": "a51ec84d-349d-4ec5-9a41-7ac7cce30e6b",
   "metadata": {},
   "outputs": [
    {
     "data": {
      "text/plain": [
       "<matplotlib.legend.Legend at 0x7fd44eb80430>"
      ]
     },
     "execution_count": 73,
     "metadata": {},
     "output_type": "execute_result"
    },
    {
     "data": {
      "image/png": "[encoded data removed]",
      "text/plain": [
       "<Figure size 432x288 with 1 Axes>"
      ]
     },
     "metadata": {
      "needs_background": "light"
     },
     "output_type": "display_data"
    }
   ],
   "source": [
    "for d in [3, 5, 7, 10, 15]:\n",
    "    df_subset = df_scores_rf[df_scores_rf.max_depth == d]\n",
    "    plt.plot(df_subset.n_estimators, df_subset.auc, label=f'max_depth={d}')\n",
    "plt.legend()"
   ]
  },
  {
   "cell_type": "code",
   "execution_count": 74,
   "id": "eecbba77-e70a-456c-a637-cb280558ca44",
   "metadata": {},
   "outputs": [],
   "source": [
    "max_depth_rf = 5"
   ]
  },
  {
   "cell_type": "code",
   "execution_count": 75,
   "id": "463e1556-6807-4529-9686-fad51aeb97a2",
   "metadata": {},
   "outputs": [
    {
     "data": {
      "application/vnd.jupyter.widget-view+json": {
       "model_id": "bc52b8180eac4e21b7bb0379966f8931",
       "version_major": 2,
       "version_minor": 0
      },
      "text/plain": [
       "  0%|          | 0/7 [00:00<?, ?it/s]"
      ]
     },
     "metadata": {},
     "output_type": "display_data"
    },
    {
     "data": {
      "application/vnd.jupyter.widget-view+json": {
       "model_id": "3a25216d69c340c88689c716f9dccf4b",
       "version_major": 2,
       "version_minor": 0
      },
      "text/plain": [
       "  0%|          | 0/20 [00:00<?, ?it/s]"
      ]
     },
     "metadata": {},
     "output_type": "display_data"
    },
    {
     "data": {
      "application/vnd.jupyter.widget-view+json": {
       "model_id": "0a431356c32246ab8a26d6e9fa6f5f99",
       "version_major": 2,
       "version_minor": 0
      },
      "text/plain": [
       "  0%|          | 0/20 [00:00<?, ?it/s]"
      ]
     },
     "metadata": {},
     "output_type": "display_data"
    },
    {
     "data": {
      "application/vnd.jupyter.widget-view+json": {
       "model_id": "77cd435344c148198945574a6503346a",
       "version_major": 2,
       "version_minor": 0
      },
      "text/plain": [
       "  0%|          | 0/20 [00:00<?, ?it/s]"
      ]
     },
     "metadata": {},
     "output_type": "display_data"
    },
    {
     "data": {
      "application/vnd.jupyter.widget-view+json": {
       "model_id": "9c67368f7d6d432c9e57d0ec429777bc",
       "version_major": 2,
       "version_minor": 0
      },
      "text/plain": [
       "  0%|          | 0/20 [00:00<?, ?it/s]"
      ]
     },
     "metadata": {},
     "output_type": "display_data"
    },
    {
     "data": {
      "application/vnd.jupyter.widget-view+json": {
       "model_id": "9849879692f74cf39b49e76fcd9ad12d",
       "version_major": 2,
       "version_minor": 0
      },
      "text/plain": [
       "  0%|          | 0/20 [00:00<?, ?it/s]"
      ]
     },
     "metadata": {},
     "output_type": "display_data"
    },
    {
     "data": {
      "application/vnd.jupyter.widget-view+json": {
       "model_id": "095b5c4a5ba54022a650c87a9299a688",
       "version_major": 2,
       "version_minor": 0
      },
      "text/plain": [
       "  0%|          | 0/20 [00:00<?, ?it/s]"
      ]
     },
     "metadata": {},
     "output_type": "display_data"
    },
    {
     "data": {
      "application/vnd.jupyter.widget-view+json": {
       "model_id": "6a533e68b75c456c959ce35b0981a985",
       "version_major": 2,
       "version_minor": 0
      },
      "text/plain": [
       "  0%|          | 0/20 [00:00<?, ?it/s]"
      ]
     },
     "metadata": {},
     "output_type": "display_data"
    }
   ],
   "source": [
    "scores_rf = []\n",
    "\n",
    "for s in tqdm([1, 3, 5, 10, 50, 100, 200]):\n",
    "    rf = RandomForestClassifier(n_estimators=0,\n",
    "                                max_depth=max_depth_rf, \n",
    "                                min_samples_leaf=s, class_weight={0:1, 1:4},\n",
    "                                random_state=13, \n",
    "                                n_jobs=-1,\n",
    "                                warm_start=True)\n",
    "    for n in tqdm(range(10, 201, 10)):\n",
    "        rf.n_estimators = n\n",
    "        rf.fit(df_train.values, y_train)\n",
    "\n",
    "        y_pred_proba = rf.predict_proba(df_val.values)[:, 1]\n",
    "        auc = roc_auc_score(y_val, y_pred_proba)\n",
    "        scores_rf.append((s, n, auc))\n",
    "columns = ['min_samples_leaf', 'n_estimators', 'auc']\n",
    "df_scores_rf = pd.DataFrame(scores_rf, columns=columns)"
   ]
  },
  {
   "cell_type": "code",
   "execution_count": 76,
   "id": "27c4fd3d-a91a-41bd-b073-d6cfe53335b0",
   "metadata": {},
   "outputs": [
    {
     "data": {
      "text/plain": [
       "<matplotlib.legend.Legend at 0x7fd46d29dd00>"
      ]
     },
     "execution_count": 76,
     "metadata": {},
     "output_type": "execute_result"
    },
    {
     "data": {
      "image/png": "[encoded data removed]",
      "text/plain": [
       "<Figure size 432x288 with 1 Axes>"
      ]
     },
     "metadata": {
      "needs_background": "light"
     },
     "output_type": "display_data"
    }
   ],
   "source": [
    "for s in [1, 3, 5, 10, 50, 100, 200]:\n",
    "    df_subset = df_scores_rf[df_scores_rf.min_samples_leaf == s]\n",
    "    plt.plot(df_subset.n_estimators, df_subset.auc, label=f'min_samples_leaf={s}')\n",
    "plt.legend()"
   ]
  },
  {
   "cell_type": "code",
   "execution_count": 77,
   "id": "93acd716-a36c-42ed-9292-c4629cd94f59",
   "metadata": {},
   "outputs": [],
   "source": [
    "min_samples_leaf_rf = 3\n",
    "n_estimators_rf = 100"
   ]
  },
  {
   "cell_type": "code",
   "execution_count": 78,
   "id": "f78f00f0-e267-4dc2-bad1-e5bb5ca3cc53",
   "metadata": {},
   "outputs": [
    {
     "name": "stdout",
     "output_type": "stream",
     "text": [
      "ROC AUC metric for best RF: 0.727\n"
     ]
    }
   ],
   "source": [
    "rf = RandomForestClassifier(n_estimators=n_estimators_rf,\n",
    "                            max_depth=max_depth_rf, \n",
    "                            min_samples_leaf=min_samples_leaf_rf, \n",
    "                            class_weight={0:1, 1:4},\n",
    "                            random_state=13, \n",
    "                            n_jobs=-1)\n",
    "rf.fit(df_train.values, y_train)\n",
    "y_pred_proba = rf.predict_proba(df_val.values)[:, 1]\n",
    "rf_auc = roc_auc_score(y_val, y_pred_proba)\n",
    "print(f'ROC AUC metric for best RF: {round(rf_auc, 3)}')"
   ]
  },
  {
   "cell_type": "markdown",
   "id": "3f48ce23-f7cf-4e2c-9f4a-9626bf2cc7eb",
   "metadata": {},
   "source": [
    "### XGBoost"
   ]
  },
  {
   "cell_type": "markdown",
   "id": "04523b77-4f78-49e6-b1be-8296add13bf6",
   "metadata": {},
   "source": [
    "\n"
   ]
  },
  {
   "cell_type": "markdown",
   "id": "1a4fb986-4e65-4188-838e-7cb0e8a7ba2a",
   "metadata": {},
   "source": [
    "Let's create weight array because our classes are imbalanced."
   ]
  },
  {
   "cell_type": "code",
   "execution_count": 79,
   "id": "c9965c81-42af-4b56-b447-b4b470592eee",
   "metadata": {},
   "outputs": [],
   "source": [
    "w_array_train = np.array([1]*y_train.shape[0])\n",
    "w_array_train[y_train==1] = 2\n",
    "w_array_train[y_train==0] = 1"
   ]
  },
  {
   "cell_type": "code",
   "execution_count": 80,
   "id": "b8e8f542-af7c-4eba-abcd-cad539ff34f0",
   "metadata": {},
   "outputs": [],
   "source": [
    "w_array_val = np.array([1]*y_val.shape[0])\n",
    "w_array_val[y_val==1] = 2\n",
    "w_array_val[y_val==0] = 1"
   ]
  },
  {
   "cell_type": "code",
   "execution_count": 81,
   "id": "3d34b06d-ebe5-44f9-8412-605fb15235a0",
   "metadata": {},
   "outputs": [],
   "source": [
    "dtrain = xgb.DMatrix(df_train.values, label=y_train, feature_names=selected_f, weight=w_array_train)\n",
    "dval = xgb.DMatrix(df_val.values, label=y_val, feature_names=selected_f, weight=w_array_val)"
   ]
  },
  {
   "cell_type": "code",
   "execution_count": 82,
   "id": "318d26ae-b328-4d9d-82ea-c37a225ca4c6",
   "metadata": {},
   "outputs": [
    {
     "name": "stdout",
     "output_type": "stream",
     "text": [
      "[20:05:51] WARNING: /Users/runner/miniforge3/conda-bld/xgboost-split_1634712680264/work/src/learner.cc:1115: Starting in XGBoost 1.3.0, the default evaluation metric used with the objective 'binary:logistic' was changed from 'error' to 'logloss'. Explicitly set eval_metric if you'd like to restore the old behavior.\n"
     ]
    },
    {
     "data": {
      "text/plain": [
       "0.691563661141099"
      ]
     },
     "execution_count": 82,
     "metadata": {},
     "output_type": "execute_result"
    }
   ],
   "source": [
    "xgb_params = {\n",
    "    'eta': 0.3,\n",
    "    'max_depth': 6, \n",
    "    'min_child_weight': 1,\n",
    "    \n",
    "    'objective': 'binary:logistic',\n",
    "    'nthread': 8,\n",
    "    \n",
    "    'seed': 13,\n",
    "    'verbosity': 1,\n",
    "}\n",
    "xgboost = xgb.train(xgb_params, dtrain, num_boost_round=10)\n",
    "y_pred = xgboost.predict(dval)\n",
    "roc_auc_score(y_val, y_pred)"
   ]
  },
  {
   "cell_type": "code",
   "execution_count": 83,
   "id": "bbac636c-c0a6-4ada-a42b-e43668119551",
   "metadata": {},
   "outputs": [],
   "source": [
    "watchlist = [(dtrain, 'train'), (dval, 'val')]"
   ]
  },
  {
   "cell_type": "code",
   "execution_count": 84,
   "id": "9bceb3c9-4fad-40ee-932f-5f431db3c6e0",
   "metadata": {},
   "outputs": [],
   "source": [
    "%%capture output\n",
    "\n",
    "xgb_params = {\n",
    "    'eta': 0.3,\n",
    "    'max_depth': 6, \n",
    "    'min_child_weight': 1,\n",
    "    \n",
    "    'objective': 'binary:logistic',\n",
    "    'eval_metric': 'auc',\n",
    "    \n",
    "    'nthread': 8,\n",
    "    'seed': 13,\n",
    "    'verbosity': 1,\n",
    "}\n",
    "xgboost = xgb.train(xgb_params, dtrain, num_boost_round=200, \n",
    "                    verbose_eval=5, evals=watchlist)"
   ]
  },
  {
   "cell_type": "code",
   "execution_count": 85,
   "id": "3fe0773a-5ae8-43b2-b7e5-a39deec92b8e",
   "metadata": {},
   "outputs": [],
   "source": [
    "def parse_xgb_output(output):\n",
    "    results = []\n",
    "\n",
    "    for line in output.stdout.strip().split('\\n'):\n",
    "        it_line, train_line, val_line = line.split('\\t')\n",
    "\n",
    "        it = int(it_line.strip('[]'))\n",
    "        train = float(train_line.split(':')[1])\n",
    "        val = float(val_line.split(':')[1])\n",
    "\n",
    "        results.append((it, train, val))\n",
    "    \n",
    "    columns = ['num_iter', 'train_auc', 'val_auc']\n",
    "    df_results = pd.DataFrame(results, columns=columns)\n",
    "    return df_results"
   ]
  },
  {
   "cell_type": "code",
   "execution_count": 86,
   "id": "60c8fe9b-6ea0-467b-b0ef-a9e8db0542d8",
   "metadata": {},
   "outputs": [],
   "source": [
    "df_score_xgb = parse_xgb_output(output)"
   ]
  },
  {
   "cell_type": "code",
   "execution_count": 87,
   "id": "1b500c81-6c14-4b6d-b216-8acd4cc7bc46",
   "metadata": {},
   "outputs": [
    {
     "data": {
      "text/plain": [
       "<matplotlib.legend.Legend at 0x7fd46d473280>"
      ]
     },
     "execution_count": 87,
     "metadata": {},
     "output_type": "execute_result"
    },
    {
     "data": {
      "image/png": "[encoded data removed]",
      "text/plain": [
       "<Figure size 432x288 with 1 Axes>"
      ]
     },
     "metadata": {
      "needs_background": "light"
     },
     "output_type": "display_data"
    }
   ],
   "source": [
    "plt.plot(df_score_xgb.num_iter, df_score_xgb.train_auc, label='train')\n",
    "plt.plot(df_score_xgb.num_iter, df_score_xgb.val_auc, label='val')\n",
    "plt.legend()"
   ]
  },
  {
   "cell_type": "markdown",
   "id": "096f7bf0-f522-4866-845f-f7ad0b1422b1",
   "metadata": {},
   "source": [
    "#### XGBoost parameters tuning"
   ]
  },
  {
   "cell_type": "code",
   "execution_count": 90,
   "id": "6431a566-a4b7-4f48-8461-18b709b70111",
   "metadata": {},
   "outputs": [],
   "source": [
    "scores = {}"
   ]
  },
  {
   "cell_type": "code",
   "execution_count": 100,
   "id": "d14c8be8-d41a-4744-9fe4-45b8c89ac203",
   "metadata": {},
   "outputs": [],
   "source": [
    "%%capture output\n",
    "\n",
    "xgb_params = {\n",
    "    'eta': 0.1,\n",
    "    'max_depth': 6, \n",
    "    'min_child_weight': 1,\n",
    "    \n",
    "    'objective': 'binary:logistic',\n",
    "    'eval_metric': 'auc',\n",
    "    \n",
    "    'nthread': 8,\n",
    "    'seed': 13,\n",
    "    'verbosity': 1,\n",
    "}\n",
    "xgboost = xgb.train(xgb_params, dtrain, num_boost_round=200, \n",
    "                    verbose_eval=5, evals=watchlist)"
   ]
  },
  {
   "cell_type": "code",
   "execution_count": 101,
   "id": "b7e3885e-cbb3-4895-ba33-010f31ad0723",
   "metadata": {},
   "outputs": [],
   "source": [
    "key = 'eta=%s' % (xgb_params['eta'])\n",
    "scores[key] = parse_xgb_output(output)"
   ]
  },
  {
   "cell_type": "code",
   "execution_count": 102,
   "id": "3c1a1648-9365-4c7b-9b66-c70ffec6e8de",
   "metadata": {},
   "outputs": [
    {
     "data": {
      "text/plain": [
       "dict_keys(['eta=0.01', 'eta=0.02', 'eta=0.05', 'eta=0.1'])"
      ]
     },
     "execution_count": 102,
     "metadata": {},
     "output_type": "execute_result"
    }
   ],
   "source": [
    "scores.keys()"
   ]
  },
  {
   "cell_type": "code",
   "execution_count": 104,
   "id": "1119fe7f-78e8-4dfd-bb39-7b4baa1046dd",
   "metadata": {},
   "outputs": [
    {
     "data": {
      "text/plain": [
       "<matplotlib.legend.Legend at 0x7fd46d0cee50>"
      ]
     },
     "execution_count": 104,
     "metadata": {},
     "output_type": "execute_result"
    },
    {
     "data": {
      "image/png": "[encoded data removed]",
      "text/plain": [
       "<Figure size 432x288 with 1 Axes>"
      ]
     },
     "metadata": {
      "needs_background": "light"
     },
     "output_type": "display_data"
    }
   ],
   "source": [
    "etas = ['eta=0.1', 'eta=0.05', 'eta=0.02', 'eta=0.01']\n",
    "\n",
    "for eta in etas:\n",
    "    df_score = scores[eta]\n",
    "    plt.plot(df_score.num_iter, df_score.val_auc, label=eta)\n",
    "plt.legend()"
   ]
  },
  {
   "cell_type": "code",
   "execution_count": 105,
   "id": "050d1df6-7c70-4c9a-bc85-43659b2ebf4d",
   "metadata": {},
   "outputs": [],
   "source": [
    "scores = {}"
   ]
  },
  {
   "cell_type": "code",
   "execution_count": 115,
   "id": "f8409c78-b18d-464d-8294-3b400403200c",
   "metadata": {},
   "outputs": [],
   "source": [
    "%%capture output\n",
    "\n",
    "xgb_params = {\n",
    "    'eta': 0.01,\n",
    "    'max_depth': 10, \n",
    "    'min_child_weight': 1,\n",
    "    \n",
    "    'objective': 'binary:logistic',\n",
    "    'eval_metric': 'auc',\n",
    "    \n",
    "    'nthread': 8,\n",
    "    'seed': 13,\n",
    "    'verbosity': 1,\n",
    "}\n",
    "xgboost = xgb.train(xgb_params, dtrain, num_boost_round=200, \n",
    "                    verbose_eval=5, evals=watchlist)"
   ]
  },
  {
   "cell_type": "code",
   "execution_count": 116,
   "id": "7ec32a62-b90c-4fcd-91ee-113f27e73770",
   "metadata": {},
   "outputs": [],
   "source": [
    "key = 'max_depth=%s' % (xgb_params['max_depth'])\n",
    "scores[key] = parse_xgb_output(output)"
   ]
  },
  {
   "cell_type": "code",
   "execution_count": 117,
   "id": "065c7f51-f214-41d5-8e0c-cd39519ca435",
   "metadata": {},
   "outputs": [
    {
     "data": {
      "text/plain": [
       "dict_keys(['max_depth=1', 'max_depth=3', 'max_depth=5', 'max_depth=10'])"
      ]
     },
     "execution_count": 117,
     "metadata": {},
     "output_type": "execute_result"
    }
   ],
   "source": [
    "scores.keys()"
   ]
  },
  {
   "cell_type": "code",
   "execution_count": 118,
   "id": "2a052c06-7d60-4fc8-a673-412ae21a2b22",
   "metadata": {},
   "outputs": [
    {
     "data": {
      "text/plain": [
       "<matplotlib.legend.Legend at 0x7fd44e9797c0>"
      ]
     },
     "execution_count": 118,
     "metadata": {},
     "output_type": "execute_result"
    },
    {
     "data": {
      "image/png": "[encoded data removed]",
      "text/plain": [
       "<Figure size 432x288 with 1 Axes>"
      ]
     },
     "metadata": {
      "needs_background": "light"
     },
     "output_type": "display_data"
    }
   ],
   "source": [
    "for max_depth, df_score in scores.items():\n",
    "    plt.plot(df_score.num_iter, df_score.val_auc, label=max_depth)\n",
    "plt.legend()"
   ]
  },
  {
   "cell_type": "code",
   "execution_count": 119,
   "id": "0a1f46f5-694d-4746-a758-b2fa011d2637",
   "metadata": {},
   "outputs": [],
   "source": [
    "scores = {}"
   ]
  },
  {
   "cell_type": "code",
   "execution_count": 135,
   "id": "9b184c40-0f46-4e87-bf01-0b1c6c940595",
   "metadata": {},
   "outputs": [],
   "source": [
    "%%capture output\n",
    "\n",
    "xgb_params = {\n",
    "    'eta': 0.01,\n",
    "    'max_depth': 3, \n",
    "    'min_child_weight': 20,\n",
    "    \n",
    "    'objective': 'binary:logistic',\n",
    "    'eval_metric': 'auc',\n",
    "    \n",
    "    'nthread': 8,\n",
    "    'seed': 13,\n",
    "    'verbosity': 1,\n",
    "}\n",
    "xgboost = xgb.train(xgb_params, dtrain, num_boost_round=200, \n",
    "                    verbose_eval=5, evals=watchlist)"
   ]
  },
  {
   "cell_type": "code",
   "execution_count": 136,
   "id": "72f1382b-37d1-4254-9b34-1e0483d57705",
   "metadata": {},
   "outputs": [],
   "source": [
    "key = 'min_child_weight=%s' % (xgb_params['min_child_weight'])\n",
    "scores[key] = parse_xgb_output(output)"
   ]
  },
  {
   "cell_type": "code",
   "execution_count": 137,
   "id": "10d07128-4c9d-42a2-9147-2edf0e3e02e1",
   "metadata": {},
   "outputs": [
    {
     "data": {
      "text/plain": [
       "dict_keys(['min_child_weight=1', 'min_child_weight=3', 'min_child_weight=5', 'min_child_weight=10', 'min_child_weight=15', 'min_child_weight=20'])"
      ]
     },
     "execution_count": 137,
     "metadata": {},
     "output_type": "execute_result"
    }
   ],
   "source": [
    "scores.keys()"
   ]
  },
  {
   "cell_type": "code",
   "execution_count": 138,
   "id": "0d98c490-b6f0-4077-b044-70b4bc63e851",
   "metadata": {},
   "outputs": [
    {
     "data": {
      "text/plain": [
       "<matplotlib.legend.Legend at 0x7fd44eb48790>"
      ]
     },
     "execution_count": 138,
     "metadata": {},
     "output_type": "execute_result"
    },
    {
     "data": {
      "image/png": "[encoded data removed]",
      "text/plain": [
       "<Figure size 432x288 with 1 Axes>"
      ]
     },
     "metadata": {
      "needs_background": "light"
     },
     "output_type": "display_data"
    }
   ],
   "source": [
    "for min_child_weight, df_score in scores.items():\n",
    "    plt.plot(df_score.num_iter, df_score.val_auc, label=min_child_weight)\n",
    "plt.ylim(0.71, 0.73)\n",
    "plt.legend()"
   ]
  },
  {
   "cell_type": "code",
   "execution_count": 139,
   "id": "611a01f8-ba90-486d-9ed5-7b904d25726d",
   "metadata": {},
   "outputs": [
    {
     "name": "stdout",
     "output_type": "stream",
     "text": [
      "ROC AUC metric for best XGBoost: 0.727\n"
     ]
    }
   ],
   "source": [
    "xgb_params = {\n",
    "    'eta': 0.01,\n",
    "    'max_depth': 3, \n",
    "    'min_child_weight': 15,\n",
    "    \n",
    "    'objective': 'binary:logistic',\n",
    "    'eval_metric': 'auc',\n",
    "    \n",
    "    'nthread': 8,\n",
    "    'seed': 13,\n",
    "    'verbosity': 1\n",
    "}\n",
    "xgboost = xgb.train(xgb_params, dtrain, num_boost_round=180)\n",
    "y_pred = xgboost.predict(dval)\n",
    "xgb_auc = roc_auc_score(y_val, y_pred)\n",
    "print(f'ROC AUC metric for best XGBoost: {round(xgb_auc, 3)}')"
   ]
  },
  {
   "cell_type": "markdown",
   "id": "dfd35914-d12d-40e7-96cc-5abe8cc8215d",
   "metadata": {
    "tags": []
   },
   "source": [
    "### LightGBM"
   ]
  },
  {
   "cell_type": "code",
   "execution_count": 140,
   "id": "99976cc4-85c2-4366-92a6-fe1c98f727df",
   "metadata": {},
   "outputs": [],
   "source": [
    "w_array_train_lgb = np.array([1]*y_train.shape[0])\n",
    "w_array_train_lgb[y_train==1] = 3\n",
    "w_array_train_lgb[y_train==0] = 1"
   ]
  },
  {
   "cell_type": "code",
   "execution_count": 141,
   "id": "03dc452b-3b26-4409-ae6f-c21d7cb63062",
   "metadata": {},
   "outputs": [],
   "source": [
    "w_array_val_lgb = np.array([1]*y_val.shape[0])\n",
    "w_array_val_lgb[y_val==1] = 3\n",
    "w_array_val_lgb[y_val==0] = 1"
   ]
  },
  {
   "cell_type": "code",
   "execution_count": 142,
   "id": "819110fd-87cd-4843-9318-dfaa4e781461",
   "metadata": {},
   "outputs": [],
   "source": [
    "lgtrain = lgb.Dataset(df_train.values, label=y_train, weight=w_array_train_lgb)\n",
    "lgval = lgb.Dataset(df_val.values, label=y_val, weight=w_array_val_lgb)"
   ]
  },
  {
   "cell_type": "code",
   "execution_count": 143,
   "id": "51ac04a4-e4c4-4c6e-a01b-65cda7c61103",
   "metadata": {
    "collapsed": true,
    "jupyter": {
     "outputs_hidden": true
    },
    "tags": []
   },
   "outputs": [
    {
     "name": "stdout",
     "output_type": "stream",
     "text": [
      "[LightGBM] [Info] Number of positive: 383, number of negative: 2159\n",
      "[LightGBM] [Warning] Auto-choosing col-wise multi-threading, the overhead of testing was 0.000583 seconds.\n",
      "You can set `force_col_wise=true` to remove the overhead.\n",
      "[LightGBM] [Info] Total Bins 836\n",
      "[LightGBM] [Info] Number of data points in the train set: 2542, number of used features: 12\n",
      "[LightGBM] [Info] [binary:BoostFromScore]: pavg=0.347340 -> initscore=-0.630753\n",
      "[LightGBM] [Info] Start training from score -0.630753\n",
      "[1]\tvalidation's auc: 0.693613\n",
      "Training until validation scores don't improve for 10 rounds\n",
      "[2]\tvalidation's auc: 0.693613\n",
      "[3]\tvalidation's auc: 0.693613\n",
      "[4]\tvalidation's auc: 0.693613\n",
      "[5]\tvalidation's auc: 0.696174\n",
      "[6]\tvalidation's auc: 0.692618\n",
      "[7]\tvalidation's auc: 0.710094\n",
      "[8]\tvalidation's auc: 0.710094\n",
      "[9]\tvalidation's auc: 0.710365\n",
      "[10]\tvalidation's auc: 0.710365\n",
      "[11]\tvalidation's auc: 0.710365\n",
      "[12]\tvalidation's auc: 0.710365\n",
      "[13]\tvalidation's auc: 0.715625\n",
      "[14]\tvalidation's auc: 0.714379\n",
      "[15]\tvalidation's auc: 0.716572\n",
      "[16]\tvalidation's auc: 0.715337\n",
      "[17]\tvalidation's auc: 0.717797\n",
      "[18]\tvalidation's auc: 0.717328\n",
      "[19]\tvalidation's auc: 0.716892\n",
      "[20]\tvalidation's auc: 0.716487\n",
      "[21]\tvalidation's auc: 0.712175\n",
      "[22]\tvalidation's auc: 0.711313\n",
      "[23]\tvalidation's auc: 0.712431\n",
      "[24]\tvalidation's auc: 0.711931\n",
      "[25]\tvalidation's auc: 0.711058\n",
      "[26]\tvalidation's auc: 0.712143\n",
      "[27]\tvalidation's auc: 0.712495\n",
      "Early stopping, best iteration is:\n",
      "[17]\tvalidation's auc: 0.717797\n",
      "[LightGBM] [Info] Number of positive: 383, number of negative: 2159\n",
      "[LightGBM] [Warning] Auto-choosing col-wise multi-threading, the overhead of testing was 0.000340 seconds.\n",
      "You can set `force_col_wise=true` to remove the overhead.\n",
      "[LightGBM] [Info] Total Bins 836\n",
      "[LightGBM] [Info] Number of data points in the train set: 2542, number of used features: 12\n",
      "[LightGBM] [Info] [binary:BoostFromScore]: pavg=0.347340 -> initscore=-0.630753\n",
      "[LightGBM] [Info] Start training from score -0.630753\n",
      "[1]\tvalidation's auc: 0.693613\n",
      "Training until validation scores don't improve for 10 rounds\n",
      "[2]\tvalidation's auc: 0.692618\n",
      "[3]\tvalidation's auc: 0.710094\n",
      "[4]\tvalidation's auc: 0.70731\n",
      "[5]\tvalidation's auc: 0.712\n",
      "[6]\tvalidation's auc: 0.713378\n",
      "[7]\tvalidation's auc: 0.716221\n",
      "[8]\tvalidation's auc: 0.715817\n",
      "[9]\tvalidation's auc: 0.719772\n",
      "[10]\tvalidation's auc: 0.718217\n",
      "[11]\tvalidation's auc: 0.716764\n",
      "[12]\tvalidation's auc: 0.721709\n",
      "[13]\tvalidation's auc: 0.722423\n",
      "[14]\tvalidation's auc: 0.72427\n",
      "[15]\tvalidation's auc: 0.724116\n",
      "[16]\tvalidation's auc: 0.724153\n",
      "[17]\tvalidation's auc: 0.725281\n",
      "[18]\tvalidation's auc: 0.725138\n",
      "[19]\tvalidation's auc: 0.724829\n",
      "[20]\tvalidation's auc: 0.724211\n",
      "[21]\tvalidation's auc: 0.724552\n",
      "[22]\tvalidation's auc: 0.723589\n",
      "[23]\tvalidation's auc: 0.724493\n",
      "[24]\tvalidation's auc: 0.725036\n",
      "[25]\tvalidation's auc: 0.725175\n",
      "[26]\tvalidation's auc: 0.724696\n",
      "[27]\tvalidation's auc: 0.724462\n",
      "Early stopping, best iteration is:\n",
      "[17]\tvalidation's auc: 0.725281\n",
      "[LightGBM] [Info] Number of positive: 383, number of negative: 2159\n",
      "[LightGBM] [Warning] Auto-choosing col-wise multi-threading, the overhead of testing was 0.000420 seconds.\n",
      "You can set `force_col_wise=true` to remove the overhead.\n",
      "[LightGBM] [Info] Total Bins 836\n",
      "[LightGBM] [Info] Number of data points in the train set: 2542, number of used features: 12\n",
      "[LightGBM] [Info] [binary:BoostFromScore]: pavg=0.347340 -> initscore=-0.630753\n",
      "[LightGBM] [Info] Start training from score -0.630753\n",
      "[1]\tvalidation's auc: 0.693613\n",
      "Training until validation scores don't improve for 10 rounds\n",
      "[2]\tvalidation's auc: 0.696562\n",
      "[3]\tvalidation's auc: 0.706394\n",
      "[4]\tvalidation's auc: 0.716056\n",
      "[5]\tvalidation's auc: 0.713394\n",
      "[6]\tvalidation's auc: 0.720187\n",
      "[7]\tvalidation's auc: 0.725579\n",
      "[8]\tvalidation's auc: 0.724174\n",
      "[9]\tvalidation's auc: 0.726548\n",
      "[10]\tvalidation's auc: 0.727682\n",
      "[11]\tvalidation's auc: 0.726761\n",
      "[12]\tvalidation's auc: 0.728869\n",
      "[13]\tvalidation's auc: 0.728795\n",
      "[14]\tvalidation's auc: 0.7274\n",
      "[15]\tvalidation's auc: 0.726064\n",
      "[16]\tvalidation's auc: 0.724845\n",
      "[17]\tvalidation's auc: 0.725217\n",
      "[18]\tvalidation's auc: 0.724765\n",
      "[19]\tvalidation's auc: 0.725713\n",
      "[20]\tvalidation's auc: 0.7255\n",
      "[21]\tvalidation's auc: 0.725739\n",
      "[22]\tvalidation's auc: 0.726314\n",
      "Early stopping, best iteration is:\n",
      "[12]\tvalidation's auc: 0.728869\n",
      "[LightGBM] [Info] Number of positive: 383, number of negative: 2159\n",
      "[LightGBM] [Warning] Auto-choosing col-wise multi-threading, the overhead of testing was 0.000295 seconds.\n",
      "You can set `force_col_wise=true` to remove the overhead.\n",
      "[LightGBM] [Info] Total Bins 836\n",
      "[LightGBM] [Info] Number of data points in the train set: 2542, number of used features: 12\n",
      "[LightGBM] [Info] [binary:BoostFromScore]: pavg=0.347340 -> initscore=-0.630753\n",
      "[LightGBM] [Info] Start training from score -0.630753\n",
      "[1]\tvalidation's auc: 0.693613\n",
      "Training until validation scores don't improve for 10 rounds\n",
      "[2]\tvalidation's auc: 0.702897\n",
      "[3]\tvalidation's auc: 0.714566\n",
      "[4]\tvalidation's auc: 0.726772\n",
      "[5]\tvalidation's auc: 0.721747\n",
      "[6]\tvalidation's auc: 0.722471\n",
      "[7]\tvalidation's auc: 0.720565\n",
      "[8]\tvalidation's auc: 0.719703\n",
      "[9]\tvalidation's auc: 0.719511\n",
      "[10]\tvalidation's auc: 0.721619\n",
      "[11]\tvalidation's auc: 0.721608\n",
      "[12]\tvalidation's auc: 0.718462\n",
      "[13]\tvalidation's auc: 0.719404\n",
      "[14]\tvalidation's auc: 0.71728\n",
      "Early stopping, best iteration is:\n",
      "[4]\tvalidation's auc: 0.726772\n",
      "[LightGBM] [Info] Number of positive: 383, number of negative: 2159\n",
      "[LightGBM] [Warning] Auto-choosing col-wise multi-threading, the overhead of testing was 0.000302 seconds.\n",
      "You can set `force_col_wise=true` to remove the overhead.\n",
      "[LightGBM] [Info] Total Bins 836\n",
      "[LightGBM] [Info] Number of data points in the train set: 2542, number of used features: 12\n",
      "[LightGBM] [Info] [binary:BoostFromScore]: pavg=0.347340 -> initscore=-0.630753\n",
      "[LightGBM] [Info] Start training from score -0.630753\n",
      "[1]\tvalidation's auc: 0.693613\n",
      "Training until validation scores don't improve for 10 rounds\n",
      "[2]\tvalidation's auc: 0.702162\n",
      "[3]\tvalidation's auc: 0.712777\n",
      "[4]\tvalidation's auc: 0.710515\n",
      "[5]\tvalidation's auc: 0.712575\n",
      "[6]\tvalidation's auc: 0.70904\n",
      "[7]\tvalidation's auc: 0.703211\n",
      "[8]\tvalidation's auc: 0.705883\n",
      "[9]\tvalidation's auc: 0.700629\n",
      "[10]\tvalidation's auc: 0.701939\n",
      "[11]\tvalidation's auc: 0.700517\n",
      "[12]\tvalidation's auc: 0.702471\n",
      "[13]\tvalidation's auc: 0.700054\n",
      "Early stopping, best iteration is:\n",
      "[3]\tvalidation's auc: 0.712777\n"
     ]
    }
   ],
   "source": [
    "evaluation = {}\n",
    "for l in [0.01, 0.05, 0.1, 0.3, 0.5]:\n",
    "    lgb_param = {\n",
    "        'learning_rate': l,\n",
    "        'max_depth': 5,\n",
    "        'num_leaves': 5, \n",
    "        'objective': 'binary',\n",
    "        'metric': 'auc',\n",
    "\n",
    "        'seed': 13,\n",
    "        'nthread': 8\n",
    "    }\n",
    "    evals_result = {}\n",
    "    lgb_model = lgb.train(lgb_param, lgtrain, valid_sets=[lgval],\n",
    "                          num_boost_round=200, early_stopping_rounds=10, \n",
    "                          valid_names=['validation'], evals_result=evals_result)\n",
    "    evaluation[l] = evals_result"
   ]
  },
  {
   "cell_type": "code",
   "execution_count": 144,
   "id": "e5ec1013-ce62-4050-92cd-070b4b652b16",
   "metadata": {},
   "outputs": [
    {
     "data": {
      "text/plain": [
       "<matplotlib.legend.Legend at 0x7fd44ee6ad00>"
      ]
     },
     "execution_count": 144,
     "metadata": {},
     "output_type": "execute_result"
    },
    {
     "data": {
      "image/png": "[encoded data removed]",
      "text/plain": [
       "<Figure size 432x288 with 1 Axes>"
      ]
     },
     "metadata": {
      "needs_background": "light"
     },
     "output_type": "display_data"
    }
   ],
   "source": [
    "for l in [0.01, 0.05, 0.1, 0.3, 0.5]:\n",
    "    plt.plot(range(len(evaluation[l]['validation']['auc'])), \n",
    "             evaluation[l]['validation']['auc'], label=f'learning_rate={l}')\n",
    "plt.legend()"
   ]
  },
  {
   "cell_type": "code",
   "execution_count": 145,
   "id": "4993cac7-9dff-4282-83bd-574246ee19a5",
   "metadata": {
    "collapsed": true,
    "jupyter": {
     "outputs_hidden": true
    },
    "tags": []
   },
   "outputs": [
    {
     "name": "stdout",
     "output_type": "stream",
     "text": [
      "[LightGBM] [Info] Number of positive: 383, number of negative: 2159\n",
      "[LightGBM] [Warning] Auto-choosing col-wise multi-threading, the overhead of testing was 0.000423 seconds.\n",
      "You can set `force_col_wise=true` to remove the overhead.\n",
      "[LightGBM] [Info] Total Bins 836\n",
      "[LightGBM] [Info] Number of data points in the train set: 2542, number of used features: 12\n",
      "[LightGBM] [Info] [binary:BoostFromScore]: pavg=0.347340 -> initscore=-0.630753\n",
      "[LightGBM] [Info] Start training from score -0.630753\n",
      "[1]\tvalidation's auc: 0.674966\n",
      "Training until validation scores don't improve for 10 rounds\n",
      "[2]\tvalidation's auc: 0.687513\n",
      "[3]\tvalidation's auc: 0.683233\n",
      "[4]\tvalidation's auc: 0.687449\n",
      "[5]\tvalidation's auc: 0.694215\n",
      "[6]\tvalidation's auc: 0.696168\n",
      "[7]\tvalidation's auc: 0.704462\n",
      "[8]\tvalidation's auc: 0.702173\n",
      "[9]\tvalidation's auc: 0.70715\n",
      "[10]\tvalidation's auc: 0.706432\n",
      "[11]\tvalidation's auc: 0.710759\n",
      "[12]\tvalidation's auc: 0.711691\n",
      "[13]\tvalidation's auc: 0.715705\n",
      "[14]\tvalidation's auc: 0.717328\n",
      "[15]\tvalidation's auc: 0.718595\n",
      "[16]\tvalidation's auc: 0.717765\n",
      "[17]\tvalidation's auc: 0.717211\n",
      "[18]\tvalidation's auc: 0.716748\n",
      "[19]\tvalidation's auc: 0.717424\n",
      "[20]\tvalidation's auc: 0.717946\n",
      "[21]\tvalidation's auc: 0.715582\n",
      "[22]\tvalidation's auc: 0.715119\n",
      "[23]\tvalidation's auc: 0.714699\n",
      "[24]\tvalidation's auc: 0.713927\n",
      "[25]\tvalidation's auc: 0.714251\n",
      "Early stopping, best iteration is:\n",
      "[15]\tvalidation's auc: 0.718595\n",
      "[LightGBM] [Info] Number of positive: 383, number of negative: 2159\n",
      "[LightGBM] [Warning] Auto-choosing col-wise multi-threading, the overhead of testing was 0.000334 seconds.\n",
      "You can set `force_col_wise=true` to remove the overhead.\n",
      "[LightGBM] [Info] Total Bins 836\n",
      "[LightGBM] [Info] Number of data points in the train set: 2542, number of used features: 12\n",
      "[LightGBM] [Info] [binary:BoostFromScore]: pavg=0.347340 -> initscore=-0.630753\n",
      "[LightGBM] [Info] Start training from score -0.630753\n",
      "[1]\tvalidation's auc: 0.696828\n",
      "Training until validation scores don't improve for 10 rounds\n",
      "[2]\tvalidation's auc: 0.691979\n",
      "[3]\tvalidation's auc: 0.69554\n",
      "[4]\tvalidation's auc: 0.69537\n",
      "[5]\tvalidation's auc: 0.701289\n",
      "[6]\tvalidation's auc: 0.700491\n",
      "[7]\tvalidation's auc: 0.704936\n",
      "[8]\tvalidation's auc: 0.702902\n",
      "[9]\tvalidation's auc: 0.705175\n",
      "[10]\tvalidation's auc: 0.708657\n",
      "[11]\tvalidation's auc: 0.710786\n",
      "[12]\tvalidation's auc: 0.712623\n",
      "[13]\tvalidation's auc: 0.714619\n",
      "[14]\tvalidation's auc: 0.716179\n",
      "[15]\tvalidation's auc: 0.716051\n",
      "[16]\tvalidation's auc: 0.715125\n",
      "[17]\tvalidation's auc: 0.715652\n",
      "[18]\tvalidation's auc: 0.714097\n",
      "[19]\tvalidation's auc: 0.714512\n",
      "[20]\tvalidation's auc: 0.713911\n",
      "[21]\tvalidation's auc: 0.713543\n",
      "[22]\tvalidation's auc: 0.715332\n",
      "[23]\tvalidation's auc: 0.71513\n",
      "[24]\tvalidation's auc: 0.714502\n",
      "Early stopping, best iteration is:\n",
      "[14]\tvalidation's auc: 0.716179\n",
      "[LightGBM] [Info] Number of positive: 383, number of negative: 2159\n",
      "[LightGBM] [Warning] Auto-choosing col-wise multi-threading, the overhead of testing was 0.000359 seconds.\n",
      "You can set `force_col_wise=true` to remove the overhead.\n",
      "[LightGBM] [Info] Total Bins 836\n",
      "[LightGBM] [Info] Number of data points in the train set: 2542, number of used features: 12\n",
      "[LightGBM] [Info] [binary:BoostFromScore]: pavg=0.347340 -> initscore=-0.630753\n",
      "[LightGBM] [Info] Start training from score -0.630753\n",
      "[1]\tvalidation's auc: 0.696828\n",
      "Training until validation scores don't improve for 10 rounds\n",
      "[2]\tvalidation's auc: 0.691979\n",
      "[3]\tvalidation's auc: 0.69554\n",
      "[4]\tvalidation's auc: 0.69537\n",
      "[5]\tvalidation's auc: 0.701289\n",
      "[6]\tvalidation's auc: 0.700491\n",
      "[7]\tvalidation's auc: 0.704936\n",
      "[8]\tvalidation's auc: 0.702902\n",
      "[9]\tvalidation's auc: 0.705175\n",
      "[10]\tvalidation's auc: 0.708657\n",
      "[11]\tvalidation's auc: 0.710786\n",
      "[12]\tvalidation's auc: 0.712623\n",
      "[13]\tvalidation's auc: 0.714619\n",
      "[14]\tvalidation's auc: 0.716179\n",
      "[15]\tvalidation's auc: 0.716051\n",
      "[16]\tvalidation's auc: 0.715125\n",
      "[17]\tvalidation's auc: 0.715652\n",
      "[18]\tvalidation's auc: 0.714097\n",
      "[19]\tvalidation's auc: 0.714512\n",
      "[20]\tvalidation's auc: 0.713911\n",
      "[21]\tvalidation's auc: 0.713543\n",
      "[22]\tvalidation's auc: 0.715332\n",
      "[23]\tvalidation's auc: 0.71513\n",
      "[24]\tvalidation's auc: 0.714502\n",
      "Early stopping, best iteration is:\n",
      "[14]\tvalidation's auc: 0.716179\n",
      "[LightGBM] [Info] Number of positive: 383, number of negative: 2159\n",
      "[LightGBM] [Warning] Auto-choosing col-wise multi-threading, the overhead of testing was 0.000304 seconds.\n",
      "You can set `force_col_wise=true` to remove the overhead.\n",
      "[LightGBM] [Info] Total Bins 836\n",
      "[LightGBM] [Info] Number of data points in the train set: 2542, number of used features: 12\n",
      "[LightGBM] [Info] [binary:BoostFromScore]: pavg=0.347340 -> initscore=-0.630753\n",
      "[LightGBM] [Info] Start training from score -0.630753\n",
      "[1]\tvalidation's auc: 0.696828\n",
      "Training until validation scores don't improve for 10 rounds\n",
      "[2]\tvalidation's auc: 0.691979\n",
      "[3]\tvalidation's auc: 0.69554\n",
      "[4]\tvalidation's auc: 0.69537\n",
      "[5]\tvalidation's auc: 0.701289\n",
      "[6]\tvalidation's auc: 0.700491\n",
      "[7]\tvalidation's auc: 0.704936\n",
      "[8]\tvalidation's auc: 0.702902\n",
      "[9]\tvalidation's auc: 0.705175\n",
      "[10]\tvalidation's auc: 0.708657\n",
      "[11]\tvalidation's auc: 0.710786\n",
      "[12]\tvalidation's auc: 0.712623\n",
      "[13]\tvalidation's auc: 0.714619\n",
      "[14]\tvalidation's auc: 0.716179\n",
      "[15]\tvalidation's auc: 0.716051\n",
      "[16]\tvalidation's auc: 0.715125\n",
      "[17]\tvalidation's auc: 0.715652\n",
      "[18]\tvalidation's auc: 0.714097\n",
      "[19]\tvalidation's auc: 0.714512\n",
      "[20]\tvalidation's auc: 0.713911\n",
      "[21]\tvalidation's auc: 0.713543\n",
      "[22]\tvalidation's auc: 0.715332\n",
      "[23]\tvalidation's auc: 0.71513\n",
      "[24]\tvalidation's auc: 0.714502\n",
      "Early stopping, best iteration is:\n",
      "[14]\tvalidation's auc: 0.716179\n",
      "[LightGBM] [Info] Number of positive: 383, number of negative: 2159\n",
      "[LightGBM] [Warning] Auto-choosing col-wise multi-threading, the overhead of testing was 0.000251 seconds.\n",
      "You can set `force_col_wise=true` to remove the overhead.\n",
      "[LightGBM] [Info] Total Bins 836\n",
      "[LightGBM] [Info] Number of data points in the train set: 2542, number of used features: 12\n",
      "[LightGBM] [Info] [binary:BoostFromScore]: pavg=0.347340 -> initscore=-0.630753\n",
      "[LightGBM] [Info] Start training from score -0.630753\n",
      "[1]\tvalidation's auc: 0.696828\n",
      "Training until validation scores don't improve for 10 rounds\n",
      "[2]\tvalidation's auc: 0.691979\n",
      "[3]\tvalidation's auc: 0.69554\n",
      "[4]\tvalidation's auc: 0.69537\n",
      "[5]\tvalidation's auc: 0.701289\n",
      "[6]\tvalidation's auc: 0.700491\n",
      "[7]\tvalidation's auc: 0.704936\n",
      "[8]\tvalidation's auc: 0.702902\n",
      "[9]\tvalidation's auc: 0.705175\n",
      "[10]\tvalidation's auc: 0.708657\n",
      "[11]\tvalidation's auc: 0.710786\n",
      "[12]\tvalidation's auc: 0.712623\n",
      "[13]\tvalidation's auc: 0.714619\n",
      "[14]\tvalidation's auc: 0.716179\n",
      "[15]\tvalidation's auc: 0.716051\n",
      "[16]\tvalidation's auc: 0.715125\n",
      "[17]\tvalidation's auc: 0.715652\n",
      "[18]\tvalidation's auc: 0.714097\n",
      "[19]\tvalidation's auc: 0.714512\n",
      "[20]\tvalidation's auc: 0.713911\n",
      "[21]\tvalidation's auc: 0.713543\n",
      "[22]\tvalidation's auc: 0.715332\n",
      "[23]\tvalidation's auc: 0.71513\n",
      "[24]\tvalidation's auc: 0.714502\n",
      "Early stopping, best iteration is:\n",
      "[14]\tvalidation's auc: 0.716179\n"
     ]
    }
   ],
   "source": [
    "evaluation = {}\n",
    "for d in [5, 10, 15, 20, 25]:\n",
    "    lgb_param = {\n",
    "        'learning_rate': 0.05,\n",
    "        'max_depth': d,\n",
    "        'num_leaves': 15, \n",
    "        'objective': 'binary',\n",
    "        'metric': 'auc',\n",
    "\n",
    "        'seed': 13,\n",
    "        'nthread': 8\n",
    "    }\n",
    "    evals_result = {}\n",
    "    lgb_model = lgb.train(lgb_param, lgtrain, valid_sets=[lgval],\n",
    "                          num_boost_round=200, early_stopping_rounds=10, \n",
    "                          valid_names=['validation'], evals_result=evals_result)\n",
    "    evaluation[d] = evals_result"
   ]
  },
  {
   "cell_type": "code",
   "execution_count": 146,
   "id": "97218d3d-99d7-4751-8e4f-13edc201b358",
   "metadata": {},
   "outputs": [
    {
     "data": {
      "text/plain": [
       "<matplotlib.legend.Legend at 0x7fd44fc831c0>"
      ]
     },
     "execution_count": 146,
     "metadata": {},
     "output_type": "execute_result"
    },
    {
     "data": {
      "image/png": "[encoded data removed]",
      "text/plain": [
       "<Figure size 432x288 with 1 Axes>"
      ]
     },
     "metadata": {
      "needs_background": "light"
     },
     "output_type": "display_data"
    }
   ],
   "source": [
    "for d in [5, 10, 15, 20, 25]:\n",
    "    plt.plot(range(len(evaluation[d]['validation']['auc'])), \n",
    "             evaluation[d]['validation']['auc'], label=f'max_depth={d}')\n",
    "plt.legend()"
   ]
  },
  {
   "cell_type": "code",
   "execution_count": 147,
   "id": "22d15627-08a9-475f-9cae-62891e0f1338",
   "metadata": {
    "collapsed": true,
    "jupyter": {
     "outputs_hidden": true
    },
    "tags": []
   },
   "outputs": [
    {
     "name": "stdout",
     "output_type": "stream",
     "text": [
      "[LightGBM] [Info] Number of positive: 383, number of negative: 2159\n",
      "[LightGBM] [Warning] Auto-choosing row-wise multi-threading, the overhead of testing was 0.000210 seconds.\n",
      "You can set `force_row_wise=true` to remove the overhead.\n",
      "And if memory is not enough, you can set `force_col_wise=true`.\n",
      "[LightGBM] [Info] Total Bins 836\n",
      "[LightGBM] [Info] Number of data points in the train set: 2542, number of used features: 12\n",
      "[LightGBM] [Info] [binary:BoostFromScore]: pavg=0.347340 -> initscore=-0.630753\n",
      "[LightGBM] [Info] Start training from score -0.630753\n",
      "[1]\tvalidation's auc: 0.693613\n",
      "Training until validation scores don't improve for 10 rounds\n",
      "[2]\tvalidation's auc: 0.692618\n",
      "[3]\tvalidation's auc: 0.710094\n",
      "[4]\tvalidation's auc: 0.70731\n",
      "[5]\tvalidation's auc: 0.712\n",
      "[6]\tvalidation's auc: 0.713378\n",
      "[7]\tvalidation's auc: 0.716221\n",
      "[8]\tvalidation's auc: 0.715817\n",
      "[9]\tvalidation's auc: 0.719772\n",
      "[10]\tvalidation's auc: 0.718217\n",
      "[11]\tvalidation's auc: 0.716764\n",
      "[12]\tvalidation's auc: 0.721709\n",
      "[13]\tvalidation's auc: 0.722423\n",
      "[14]\tvalidation's auc: 0.72427\n",
      "[15]\tvalidation's auc: 0.724116\n",
      "[16]\tvalidation's auc: 0.724153\n",
      "[17]\tvalidation's auc: 0.725281\n",
      "[18]\tvalidation's auc: 0.725138\n",
      "[19]\tvalidation's auc: 0.724829\n",
      "[20]\tvalidation's auc: 0.724211\n",
      "[21]\tvalidation's auc: 0.724552\n",
      "[22]\tvalidation's auc: 0.723589\n",
      "[23]\tvalidation's auc: 0.724493\n",
      "[24]\tvalidation's auc: 0.725036\n",
      "[25]\tvalidation's auc: 0.725175\n",
      "[26]\tvalidation's auc: 0.724696\n",
      "[27]\tvalidation's auc: 0.724462\n",
      "Early stopping, best iteration is:\n",
      "[17]\tvalidation's auc: 0.725281\n",
      "[LightGBM] [Info] Number of positive: 383, number of negative: 2159\n",
      "[LightGBM] [Warning] Auto-choosing col-wise multi-threading, the overhead of testing was 0.000334 seconds.\n",
      "You can set `force_col_wise=true` to remove the overhead.\n",
      "[LightGBM] [Info] Total Bins 836\n",
      "[LightGBM] [Info] Number of data points in the train set: 2542, number of used features: 12\n",
      "[LightGBM] [Info] [binary:BoostFromScore]: pavg=0.347340 -> initscore=-0.630753\n",
      "[LightGBM] [Info] Start training from score -0.630753\n",
      "[1]\tvalidation's auc: 0.69348\n",
      "Training until validation scores don't improve for 10 rounds\n",
      "[2]\tvalidation's auc: 0.695689\n",
      "[3]\tvalidation's auc: 0.697952\n",
      "[4]\tvalidation's auc: 0.702178\n",
      "[5]\tvalidation's auc: 0.707145\n",
      "[6]\tvalidation's auc: 0.705111\n",
      "[7]\tvalidation's auc: 0.710903\n",
      "[8]\tvalidation's auc: 0.711015\n",
      "[9]\tvalidation's auc: 0.711813\n",
      "[10]\tvalidation's auc: 0.708108\n",
      "[11]\tvalidation's auc: 0.712756\n",
      "[12]\tvalidation's auc: 0.714251\n",
      "[13]\tvalidation's auc: 0.713581\n",
      "[14]\tvalidation's auc: 0.712346\n",
      "[15]\tvalidation's auc: 0.718334\n",
      "[16]\tvalidation's auc: 0.718249\n",
      "[17]\tvalidation's auc: 0.720001\n",
      "[18]\tvalidation's auc: 0.719921\n",
      "[19]\tvalidation's auc: 0.719101\n",
      "[20]\tvalidation's auc: 0.719117\n",
      "[21]\tvalidation's auc: 0.721385\n",
      "[22]\tvalidation's auc: 0.722082\n",
      "[23]\tvalidation's auc: 0.723104\n",
      "[24]\tvalidation's auc: 0.72255\n",
      "[25]\tvalidation's auc: 0.723264\n",
      "[26]\tvalidation's auc: 0.723014\n",
      "[27]\tvalidation's auc: 0.723583\n",
      "[28]\tvalidation's auc: 0.722827\n",
      "[29]\tvalidation's auc: 0.723306\n",
      "[30]\tvalidation's auc: 0.723594\n",
      "[31]\tvalidation's auc: 0.72362\n",
      "[32]\tvalidation's auc: 0.723599\n",
      "[33]\tvalidation's auc: 0.722998\n",
      "[34]\tvalidation's auc: 0.723466\n",
      "[35]\tvalidation's auc: 0.723253\n",
      "[36]\tvalidation's auc: 0.723376\n",
      "[37]\tvalidation's auc: 0.722039\n",
      "[38]\tvalidation's auc: 0.721741\n",
      "[39]\tvalidation's auc: 0.721188\n",
      "[40]\tvalidation's auc: 0.720176\n",
      "[41]\tvalidation's auc: 0.719058\n",
      "Early stopping, best iteration is:\n",
      "[31]\tvalidation's auc: 0.72362\n",
      "[LightGBM] [Info] Number of positive: 383, number of negative: 2159\n",
      "[LightGBM] [Warning] Auto-choosing col-wise multi-threading, the overhead of testing was 0.000275 seconds.\n",
      "You can set `force_col_wise=true` to remove the overhead.\n",
      "[LightGBM] [Info] Total Bins 836\n",
      "[LightGBM] [Info] Number of data points in the train set: 2542, number of used features: 12\n",
      "[LightGBM] [Info] [binary:BoostFromScore]: pavg=0.347340 -> initscore=-0.630753\n",
      "[LightGBM] [Info] Start training from score -0.630753\n",
      "[1]\tvalidation's auc: 0.674966\n",
      "Training until validation scores don't improve for 10 rounds\n",
      "[2]\tvalidation's auc: 0.687513\n",
      "[3]\tvalidation's auc: 0.683233\n",
      "[4]\tvalidation's auc: 0.687449\n",
      "[5]\tvalidation's auc: 0.694215\n",
      "[6]\tvalidation's auc: 0.696168\n",
      "[7]\tvalidation's auc: 0.704462\n",
      "[8]\tvalidation's auc: 0.702173\n",
      "[9]\tvalidation's auc: 0.70715\n",
      "[10]\tvalidation's auc: 0.706432\n",
      "[11]\tvalidation's auc: 0.710759\n",
      "[12]\tvalidation's auc: 0.711691\n",
      "[13]\tvalidation's auc: 0.715705\n",
      "[14]\tvalidation's auc: 0.717328\n",
      "[15]\tvalidation's auc: 0.718595\n",
      "[16]\tvalidation's auc: 0.717765\n",
      "[17]\tvalidation's auc: 0.717211\n",
      "[18]\tvalidation's auc: 0.716748\n",
      "[19]\tvalidation's auc: 0.717424\n",
      "[20]\tvalidation's auc: 0.717946\n",
      "[21]\tvalidation's auc: 0.715582\n",
      "[22]\tvalidation's auc: 0.715119\n",
      "[23]\tvalidation's auc: 0.714699\n",
      "[24]\tvalidation's auc: 0.713927\n",
      "[25]\tvalidation's auc: 0.714251\n",
      "Early stopping, best iteration is:\n",
      "[15]\tvalidation's auc: 0.718595\n",
      "[LightGBM] [Info] Number of positive: 383, number of negative: 2159\n",
      "[LightGBM] [Warning] Auto-choosing col-wise multi-threading, the overhead of testing was 0.000303 seconds.\n",
      "You can set `force_col_wise=true` to remove the overhead.\n",
      "[LightGBM] [Info] Total Bins 836\n",
      "[LightGBM] [Info] Number of data points in the train set: 2542, number of used features: 12\n",
      "[LightGBM] [Info] [binary:BoostFromScore]: pavg=0.347340 -> initscore=-0.630753\n",
      "[LightGBM] [Info] Start training from score -0.630753\n",
      "[1]\tvalidation's auc: 0.657234\n",
      "Training until validation scores don't improve for 10 rounds\n",
      "[2]\tvalidation's auc: 0.670159\n",
      "[3]\tvalidation's auc: 0.66902\n",
      "[4]\tvalidation's auc: 0.683084\n",
      "[5]\tvalidation's auc: 0.688647\n",
      "[6]\tvalidation's auc: 0.692969\n",
      "[7]\tvalidation's auc: 0.69571\n",
      "[8]\tvalidation's auc: 0.700714\n",
      "[9]\tvalidation's auc: 0.705431\n",
      "[10]\tvalidation's auc: 0.705591\n",
      "[11]\tvalidation's auc: 0.705117\n",
      "[12]\tvalidation's auc: 0.708588\n",
      "[13]\tvalidation's auc: 0.71035\n",
      "[14]\tvalidation's auc: 0.713112\n",
      "[15]\tvalidation's auc: 0.712814\n",
      "[16]\tvalidation's auc: 0.713804\n",
      "[17]\tvalidation's auc: 0.713767\n",
      "[18]\tvalidation's auc: 0.713416\n",
      "[19]\tvalidation's auc: 0.711771\n",
      "[20]\tvalidation's auc: 0.712798\n",
      "[21]\tvalidation's auc: 0.712809\n",
      "[22]\tvalidation's auc: 0.711318\n",
      "[23]\tvalidation's auc: 0.71142\n",
      "[LightGBM] [Warning] No further splits with positive gain, best gain: -inf\n",
      "[24]\tvalidation's auc: 0.710866\n",
      "[LightGBM] [Warning] No further splits with positive gain, best gain: -inf\n",
      "[25]\tvalidation's auc: 0.712633\n",
      "[26]\tvalidation's auc: 0.712809\n",
      "Early stopping, best iteration is:\n",
      "[16]\tvalidation's auc: 0.713804\n",
      "[LightGBM] [Info] Number of positive: 383, number of negative: 2159\n",
      "[LightGBM] [Warning] Auto-choosing col-wise multi-threading, the overhead of testing was 0.000270 seconds.\n",
      "You can set `force_col_wise=true` to remove the overhead.\n",
      "[LightGBM] [Info] Total Bins 836\n",
      "[LightGBM] [Info] Number of data points in the train set: 2542, number of used features: 12\n",
      "[LightGBM] [Info] [binary:BoostFromScore]: pavg=0.347340 -> initscore=-0.630753\n",
      "[LightGBM] [Info] Start training from score -0.630753\n",
      "[1]\tvalidation's auc: 0.661524\n",
      "Training until validation scores don't improve for 10 rounds\n",
      "[2]\tvalidation's auc: 0.677106\n",
      "[3]\tvalidation's auc: 0.678335\n",
      "[4]\tvalidation's auc: 0.683973\n",
      "[5]\tvalidation's auc: 0.690621\n",
      "[6]\tvalidation's auc: 0.694944\n",
      "[7]\tvalidation's auc: 0.69636\n",
      "[LightGBM] [Warning] No further splits with positive gain, best gain: -inf\n",
      "[8]\tvalidation's auc: 0.696573\n",
      "[LightGBM] [Warning] No further splits with positive gain, best gain: -inf\n",
      "[9]\tvalidation's auc: 0.704851\n",
      "[10]\tvalidation's auc: 0.707124\n",
      "[LightGBM] [Warning] No further splits with positive gain, best gain: -inf\n",
      "[11]\tvalidation's auc: 0.70987\n",
      "[12]\tvalidation's auc: 0.71028\n",
      "[LightGBM] [Warning] No further splits with positive gain, best gain: -inf\n",
      "[13]\tvalidation's auc: 0.70912\n",
      "[14]\tvalidation's auc: 0.709695\n",
      "[LightGBM] [Warning] No further splits with positive gain, best gain: -inf\n",
      "[15]\tvalidation's auc: 0.710115\n",
      "[16]\tvalidation's auc: 0.710499\n",
      "[LightGBM] [Warning] No further splits with positive gain, best gain: -inf\n",
      "[17]\tvalidation's auc: 0.710424\n",
      "[LightGBM] [Warning] No further splits with positive gain, best gain: -inf\n",
      "[18]\tvalidation's auc: 0.711893\n",
      "[LightGBM] [Warning] No further splits with positive gain, best gain: -inf\n",
      "[19]\tvalidation's auc: 0.708422\n",
      "[LightGBM] [Warning] No further splits with positive gain, best gain: -inf\n",
      "[20]\tvalidation's auc: 0.710046\n",
      "[21]\tvalidation's auc: 0.710083\n",
      "[LightGBM] [Warning] No further splits with positive gain, best gain: -inf\n",
      "[22]\tvalidation's auc: 0.710312\n",
      "[LightGBM] [Warning] No further splits with positive gain, best gain: -inf\n",
      "[23]\tvalidation's auc: 0.710829\n",
      "[24]\tvalidation's auc: 0.710435\n",
      "[LightGBM] [Warning] No further splits with positive gain, best gain: -inf\n",
      "[25]\tvalidation's auc: 0.71011\n",
      "[LightGBM] [Warning] No further splits with positive gain, best gain: -inf\n",
      "[26]\tvalidation's auc: 0.709008\n",
      "[LightGBM] [Warning] No further splits with positive gain, best gain: -inf\n",
      "[27]\tvalidation's auc: 0.709083\n",
      "[28]\tvalidation's auc: 0.708364\n",
      "Early stopping, best iteration is:\n",
      "[18]\tvalidation's auc: 0.711893\n",
      "[LightGBM] [Info] Number of positive: 383, number of negative: 2159\n",
      "[LightGBM] [Warning] Auto-choosing col-wise multi-threading, the overhead of testing was 0.000384 seconds.\n",
      "You can set `force_col_wise=true` to remove the overhead.\n",
      "[LightGBM] [Info] Total Bins 836\n",
      "[LightGBM] [Info] Number of data points in the train set: 2542, number of used features: 12\n",
      "[LightGBM] [Info] [binary:BoostFromScore]: pavg=0.347340 -> initscore=-0.630753\n",
      "[LightGBM] [Info] Start training from score -0.630753\n",
      "[LightGBM] [Warning] No further splits with positive gain, best gain: -inf\n",
      "[1]\tvalidation's auc: 0.663223\n",
      "Training until validation scores don't improve for 10 rounds\n",
      "[LightGBM] [Warning] No further splits with positive gain, best gain: -inf\n",
      "[2]\tvalidation's auc: 0.676115\n",
      "[LightGBM] [Warning] No further splits with positive gain, best gain: -inf\n",
      "[3]\tvalidation's auc: 0.676142\n",
      "[LightGBM] [Warning] No further splits with positive gain, best gain: -inf\n",
      "[4]\tvalidation's auc: 0.682663\n",
      "[LightGBM] [Warning] No further splits with positive gain, best gain: -inf\n",
      "[5]\tvalidation's auc: 0.689189\n",
      "[LightGBM] [Warning] No further splits with positive gain, best gain: -inf\n",
      "[6]\tvalidation's auc: 0.693986\n",
      "[LightGBM] [Warning] No further splits with positive gain, best gain: -inf\n",
      "[7]\tvalidation's auc: 0.694209\n",
      "[LightGBM] [Warning] No further splits with positive gain, best gain: -inf\n",
      "[8]\tvalidation's auc: 0.697558\n",
      "[LightGBM] [Warning] No further splits with positive gain, best gain: -inf\n",
      "[9]\tvalidation's auc: 0.70344\n",
      "[LightGBM] [Warning] No further splits with positive gain, best gain: -inf\n",
      "[10]\tvalidation's auc: 0.705042\n",
      "[LightGBM] [Warning] No further splits with positive gain, best gain: -inf\n",
      "[11]\tvalidation's auc: 0.706458\n",
      "[LightGBM] [Warning] No further splits with positive gain, best gain: -inf\n",
      "[12]\tvalidation's auc: 0.705319\n",
      "[LightGBM] [Warning] No further splits with positive gain, best gain: -inf\n",
      "[13]\tvalidation's auc: 0.707661\n",
      "[LightGBM] [Warning] No further splits with positive gain, best gain: -inf\n",
      "[14]\tvalidation's auc: 0.70714\n",
      "[LightGBM] [Warning] No further splits with positive gain, best gain: -inf\n",
      "[15]\tvalidation's auc: 0.707528\n",
      "[LightGBM] [Warning] No further splits with positive gain, best gain: -inf\n",
      "[16]\tvalidation's auc: 0.707656\n",
      "[LightGBM] [Warning] No further splits with positive gain, best gain: -inf\n",
      "[17]\tvalidation's auc: 0.708763\n",
      "[LightGBM] [Warning] No further splits with positive gain, best gain: -inf\n",
      "[18]\tvalidation's auc: 0.708886\n",
      "[LightGBM] [Warning] No further splits with positive gain, best gain: -inf\n",
      "[19]\tvalidation's auc: 0.708864\n",
      "[LightGBM] [Warning] No further splits with positive gain, best gain: -inf\n",
      "[20]\tvalidation's auc: 0.708172\n",
      "[LightGBM] [Warning] No further splits with positive gain, best gain: -inf\n",
      "[21]\tvalidation's auc: 0.708454\n",
      "[LightGBM] [Warning] No further splits with positive gain, best gain: -inf\n",
      "[22]\tvalidation's auc: 0.70788\n",
      "[LightGBM] [Warning] No further splits with positive gain, best gain: -inf\n",
      "[23]\tvalidation's auc: 0.70887\n",
      "[LightGBM] [Warning] No further splits with positive gain, best gain: -inf\n",
      "[24]\tvalidation's auc: 0.708156\n",
      "[LightGBM] [Warning] No further splits with positive gain, best gain: -inf\n",
      "[25]\tvalidation's auc: 0.707805\n",
      "[LightGBM] [Warning] No further splits with positive gain, best gain: -inf\n",
      "[26]\tvalidation's auc: 0.707816\n",
      "[LightGBM] [Warning] No further splits with positive gain, best gain: -inf\n",
      "[27]\tvalidation's auc: 0.707885\n",
      "[LightGBM] [Warning] No further splits with positive gain, best gain: -inf\n",
      "[28]\tvalidation's auc: 0.707097\n",
      "Early stopping, best iteration is:\n",
      "[18]\tvalidation's auc: 0.708886\n",
      "[LightGBM] [Info] Number of positive: 383, number of negative: 2159\n",
      "[LightGBM] [Warning] Auto-choosing col-wise multi-threading, the overhead of testing was 0.000248 seconds.\n",
      "You can set `force_col_wise=true` to remove the overhead.\n",
      "[LightGBM] [Info] Total Bins 836\n",
      "[LightGBM] [Info] Number of data points in the train set: 2542, number of used features: 12\n",
      "[LightGBM] [Info] [binary:BoostFromScore]: pavg=0.347340 -> initscore=-0.630753\n",
      "[LightGBM] [Info] Start training from score -0.630753\n",
      "[LightGBM] [Warning] No further splits with positive gain, best gain: -inf\n",
      "[1]\tvalidation's auc: 0.663223\n",
      "Training until validation scores don't improve for 10 rounds\n",
      "[LightGBM] [Warning] No further splits with positive gain, best gain: -inf\n",
      "[2]\tvalidation's auc: 0.676115\n",
      "[LightGBM] [Warning] No further splits with positive gain, best gain: -inf\n",
      "[3]\tvalidation's auc: 0.676142\n",
      "[LightGBM] [Warning] No further splits with positive gain, best gain: -inf\n",
      "[4]\tvalidation's auc: 0.682663\n",
      "[LightGBM] [Warning] No further splits with positive gain, best gain: -inf\n",
      "[5]\tvalidation's auc: 0.689189\n",
      "[LightGBM] [Warning] No further splits with positive gain, best gain: -inf\n",
      "[6]\tvalidation's auc: 0.693986\n",
      "[LightGBM] [Warning] No further splits with positive gain, best gain: -inf\n",
      "[7]\tvalidation's auc: 0.694209\n",
      "[LightGBM] [Warning] No further splits with positive gain, best gain: -inf\n",
      "[8]\tvalidation's auc: 0.697558\n",
      "[LightGBM] [Warning] No further splits with positive gain, best gain: -inf\n",
      "[9]\tvalidation's auc: 0.70344\n",
      "[LightGBM] [Warning] No further splits with positive gain, best gain: -inf\n",
      "[10]\tvalidation's auc: 0.705042\n",
      "[LightGBM] [Warning] No further splits with positive gain, best gain: -inf\n",
      "[11]\tvalidation's auc: 0.706458\n",
      "[LightGBM] [Warning] No further splits with positive gain, best gain: -inf\n",
      "[12]\tvalidation's auc: 0.705319\n",
      "[LightGBM] [Warning] No further splits with positive gain, best gain: -inf\n",
      "[13]\tvalidation's auc: 0.707661\n",
      "[LightGBM] [Warning] No further splits with positive gain, best gain: -inf\n",
      "[14]\tvalidation's auc: 0.70714\n",
      "[LightGBM] [Warning] No further splits with positive gain, best gain: -inf\n",
      "[15]\tvalidation's auc: 0.707528\n",
      "[LightGBM] [Warning] No further splits with positive gain, best gain: -inf\n",
      "[16]\tvalidation's auc: 0.707656\n",
      "[LightGBM] [Warning] No further splits with positive gain, best gain: -inf\n",
      "[17]\tvalidation's auc: 0.708763\n",
      "[LightGBM] [Warning] No further splits with positive gain, best gain: -inf\n",
      "[18]\tvalidation's auc: 0.708886\n",
      "[LightGBM] [Warning] No further splits with positive gain, best gain: -inf\n",
      "[19]\tvalidation's auc: 0.708864\n",
      "[LightGBM] [Warning] No further splits with positive gain, best gain: -inf\n",
      "[20]\tvalidation's auc: 0.708172\n",
      "[LightGBM] [Warning] No further splits with positive gain, best gain: -inf\n",
      "[21]\tvalidation's auc: 0.708454\n",
      "[LightGBM] [Warning] No further splits with positive gain, best gain: -inf\n",
      "[22]\tvalidation's auc: 0.70788\n",
      "[LightGBM] [Warning] No further splits with positive gain, best gain: -inf\n",
      "[23]\tvalidation's auc: 0.70887\n",
      "[LightGBM] [Warning] No further splits with positive gain, best gain: -inf\n",
      "[24]\tvalidation's auc: 0.708156\n",
      "[LightGBM] [Warning] No further splits with positive gain, best gain: -inf\n",
      "[25]\tvalidation's auc: 0.707805\n",
      "[LightGBM] [Warning] No further splits with positive gain, best gain: -inf\n",
      "[26]\tvalidation's auc: 0.707816\n",
      "[LightGBM] [Warning] No further splits with positive gain, best gain: -inf\n",
      "[27]\tvalidation's auc: 0.707885\n",
      "[LightGBM] [Warning] No further splits with positive gain, best gain: -inf\n",
      "[28]\tvalidation's auc: 0.707097\n",
      "Early stopping, best iteration is:\n",
      "[18]\tvalidation's auc: 0.708886\n"
     ]
    }
   ],
   "source": [
    "evaluation = {}\n",
    "for s in [5, 10, 15, 20, 25, 30, 40]:\n",
    "    lgb_param = {\n",
    "        'learning_rate': 0.05,\n",
    "        'max_depth': 5,\n",
    "        'num_leaves': s, \n",
    "        'objective': 'binary',\n",
    "        'metric': 'auc',\n",
    "\n",
    "        'seed': 13,\n",
    "        'nthread': 8\n",
    "    }\n",
    "    evals_result = {}\n",
    "    lgb_model = lgb.train(lgb_param, lgtrain, valid_sets=[lgval],\n",
    "                          num_boost_round=200, early_stopping_rounds=10, \n",
    "                          valid_names=['validation'], evals_result=evals_result)\n",
    "    evaluation[s] = evals_result"
   ]
  },
  {
   "cell_type": "code",
   "execution_count": 148,
   "id": "f53784d7-ba54-4c69-af9c-7d2909ba5bd6",
   "metadata": {},
   "outputs": [
    {
     "data": {
      "text/plain": [
       "<matplotlib.legend.Legend at 0x7fd44fde8d90>"
      ]
     },
     "execution_count": 148,
     "metadata": {},
     "output_type": "execute_result"
    },
    {
     "data": {
      "image/png": "[encoded data removed]",
      "text/plain": [
       "<Figure size 432x288 with 1 Axes>"
      ]
     },
     "metadata": {
      "needs_background": "light"
     },
     "output_type": "display_data"
    }
   ],
   "source": [
    "for s in [5, 10, 15, 20, 25, 30, 40]:\n",
    "    plt.plot(range(len(evaluation[s]['validation']['auc'])), \n",
    "             evaluation[s]['validation']['auc'], label=f'num_leaves={s}')\n",
    "plt.legend()"
   ]
  },
  {
   "cell_type": "code",
   "execution_count": 149,
   "id": "93e86b10-3a2c-43a0-8c25-5fe191815ee0",
   "metadata": {
    "tags": []
   },
   "outputs": [
    {
     "name": "stdout",
     "output_type": "stream",
     "text": [
      "[LightGBM] [Info] Number of positive: 383, number of negative: 2159\n",
      "[LightGBM] [Warning] Auto-choosing col-wise multi-threading, the overhead of testing was 0.000553 seconds.\n",
      "You can set `force_col_wise=true` to remove the overhead.\n",
      "[LightGBM] [Info] Total Bins 836\n",
      "[LightGBM] [Info] Number of data points in the train set: 2542, number of used features: 12\n",
      "[LightGBM] [Info] [binary:BoostFromScore]: pavg=0.347340 -> initscore=-0.630753\n",
      "[LightGBM] [Info] Start training from score -0.630753\n",
      "ROC AUC metric for best LightGBM: 0.727\n"
     ]
    }
   ],
   "source": [
    "lgb_param = {\n",
    "        'learning_rate': 0.01,\n",
    "        'max_depth': 5,\n",
    "        'num_leaves': 5, \n",
    "        'objective': 'binary',\n",
    "        'metric': 'auc',\n",
    "\n",
    "        'seed': 13,\n",
    "        'nthread': 8\n",
    "    }\n",
    "evals_result = {}\n",
    "lgb_model = lgb.train(lgb_param, lgtrain, num_boost_round=300)\n",
    "y_pred = lgb_model.predict(df_val.values)\n",
    "lgb_auc = round(roc_auc_score(y_val, y_pred), 3)\n",
    "print(f'ROC AUC metric for best LightGBM: {round(lgb_auc, 3)}')"
   ]
  },
  {
   "cell_type": "markdown",
   "id": "eebd0846-d3b2-46b0-b400-b1783b0e731f",
   "metadata": {},
   "source": [
    "### Selecting the best model"
   ]
  },
  {
   "cell_type": "code",
   "execution_count": 150,
   "id": "8939e070-5a30-4cea-ab22-3bcc4c303862",
   "metadata": {},
   "outputs": [],
   "source": [
    "model_df = pd.DataFrame(data=[('logistic_regression', lr_auc), \n",
    "                              ('decision_tree', dt_auc), \n",
    "                              ('random_forest', rf_auc), \n",
    "                              ('xgboost', xgb_auc), \n",
    "                              ('lightgbm', lgb_auc)], columns=['model', 'auc'])"
   ]
  },
  {
   "cell_type": "code",
   "execution_count": 151,
   "id": "0d2d9c96-8ca0-48cb-8894-970d7947a787",
   "metadata": {},
   "outputs": [
    {
     "data": {
      "text/html": [
       "<div>\n",
       "<style scoped>\n",
       "    .dataframe tbody tr th:only-of-type {\n",
       "        vertical-align: middle;\n",
       "    }\n",
       "\n",
       "    .dataframe tbody tr th {\n",
       "        vertical-align: top;\n",
       "    }\n",
       "\n",
       "    .dataframe thead th {\n",
       "        text-align: right;\n",
       "    }\n",
       "</style>\n",
       "<table border=\"1\" class=\"dataframe\">\n",
       "  <thead>\n",
       "    <tr style=\"text-align: right;\">\n",
       "      <th></th>\n",
       "      <th>model</th>\n",
       "      <th>auc</th>\n",
       "    </tr>\n",
       "  </thead>\n",
       "  <tbody>\n",
       "    <tr>\n",
       "      <th>0</th>\n",
       "      <td>logistic_regression</td>\n",
       "      <td>0.731526</td>\n",
       "    </tr>\n",
       "    <tr>\n",
       "      <th>3</th>\n",
       "      <td>xgboost</td>\n",
       "      <td>0.727400</td>\n",
       "    </tr>\n",
       "    <tr>\n",
       "      <th>4</th>\n",
       "      <td>lightgbm</td>\n",
       "      <td>0.727000</td>\n",
       "    </tr>\n",
       "    <tr>\n",
       "      <th>2</th>\n",
       "      <td>random_forest</td>\n",
       "      <td>0.726905</td>\n",
       "    </tr>\n",
       "    <tr>\n",
       "      <th>1</th>\n",
       "      <td>decision_tree</td>\n",
       "      <td>0.718068</td>\n",
       "    </tr>\n",
       "  </tbody>\n",
       "</table>\n",
       "</div>"
      ],
      "text/plain": [
       "                 model       auc\n",
       "0  logistic_regression  0.731526\n",
       "3              xgboost  0.727400\n",
       "4             lightgbm  0.727000\n",
       "2        random_forest  0.726905\n",
       "1        decision_tree  0.718068"
      ]
     },
     "execution_count": 151,
     "metadata": {},
     "output_type": "execute_result"
    }
   ],
   "source": [
    "model_df.sort_values(by='auc', ascending=False)"
   ]
  },
  {
   "cell_type": "code",
   "execution_count": 152,
   "id": "8fa2d4ce-15f5-467d-ba58-3447baa80565",
   "metadata": {},
   "outputs": [
    {
     "name": "stdout",
     "output_type": "stream",
     "text": [
      "ROC AUC metric for best model (LR) trained on full train dataset: 0.746\n"
     ]
    }
   ],
   "source": [
    "lr_full = LogisticRegression(C=best_c,\n",
    "                             class_weight={0:1, 1:4}, \n",
    "                             max_iter=10000, \n",
    "                             random_state=13)\n",
    "lr_full.fit(df_full_train.values, y_train_full)\n",
    "y_pred = lr.predict_proba(df_test.values)[:, 1]\n",
    "lr_full_auc = roc_auc_score(y_test, y_pred)\n",
    "print(f'ROC AUC metric for best model (LR) trained on full train dataset: {round(lr_full_auc, 3)}')"
   ]
  }
 ],
 "metadata": {
  "kernelspec": {
   "display_name": "Python 3 (ipykernel)",
   "language": "python",
   "name": "python3"
  },
  "language_info": {
   "codemirror_mode": {
    "name": "ipython",
    "version": 3
   },
   "file_extension": ".py",
   "mimetype": "text/x-python",
   "name": "python",
   "nbconvert_exporter": "python",
   "pygments_lexer": "ipython3",
   "version": "3.9.6"
  }
 },
 "nbformat": 4,
 "nbformat_minor": 5
}
